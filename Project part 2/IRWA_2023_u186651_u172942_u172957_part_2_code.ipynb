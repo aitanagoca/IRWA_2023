{
  "nbformat": 4,
  "nbformat_minor": 0,
  "metadata": {
    "colab": {
      "provenance": []
    },
    "kernelspec": {
      "name": "python3",
      "display_name": "Python 3"
    },
    "language_info": {
      "name": "python"
    }
  },
  "cells": [
    {
      "cell_type": "markdown",
      "source": [
        "#IRWA Project Part 1 and 2"
      ],
      "metadata": {
        "id": "mJACbOelnljc"
      }
    },
    {
      "cell_type": "markdown",
      "source": [
        "Group team: G_101_7\n",
        "\n",
        "Group members:\n",
        "\n",
        "*   Mireia Carbó\n",
        "*   Aitana González\n",
        "*   Raquel Sans"
      ],
      "metadata": {
        "id": "29atW-GNnqWr"
      }
    },
    {
      "cell_type": "markdown",
      "source": [
        "# 0. Setup and Imports"
      ],
      "metadata": {
        "id": "IZ_qTiwPoPuk"
      }
    },
    {
      "cell_type": "code",
      "execution_count": 1,
      "metadata": {
        "colab": {
          "base_uri": "https://localhost:8080/"
        },
        "id": "uvkKgm1KnM28",
        "outputId": "ea943253-e39d-49b4-fc2a-abead0e7a3a0"
      },
      "outputs": [
        {
          "output_type": "stream",
          "name": "stdout",
          "text": [
            "Mounted at /content/drive\n"
          ]
        }
      ],
      "source": [
        "### CONNECT TO DRIVE\n",
        "\n",
        "from google.colab import drive\n",
        "drive.mount('/content/drive')"
      ]
    },
    {
      "cell_type": "code",
      "source": [
        "### IMPORTS\n",
        "\n",
        "import json\n",
        "import csv\n",
        "import pandas as pd\n",
        "import numpy as np\n",
        "import re\n",
        "import datetime\n",
        "###\n",
        "import nltk\n",
        "nltk.download('stopwords')\n",
        "###\n",
        "from collections import defaultdict\n",
        "from array import array\n",
        "from nltk.stem import PorterStemmer\n",
        "from nltk.corpus import stopwords\n",
        "import math\n",
        "import numpy as np\n",
        "import collections\n",
        "from numpy import linalg as la\n",
        "import warnings\n",
        "warnings.filterwarnings('ignore')\n",
        "###\n",
        "from wordcloud import WordCloud\n",
        "import matplotlib.pyplot as plt\n",
        "###"
      ],
      "metadata": {
        "colab": {
          "base_uri": "https://localhost:8080/"
        },
        "id": "Zq2NZjn7n-2f",
        "outputId": "da81074b-2d02-4da5-969b-f3fd6d2c24f4"
      },
      "execution_count": 2,
      "outputs": [
        {
          "output_type": "stream",
          "name": "stderr",
          "text": [
            "[nltk_data] Downloading package stopwords to /root/nltk_data...\n",
            "[nltk_data]   Unzipping corpora/stopwords.zip.\n"
          ]
        }
      ]
    },
    {
      "cell_type": "code",
      "source": [
        "### UPLOADS OF DOCS\n",
        "\n",
        "docs_path_json = '/content/drive/Shareddrives/IRWA/Part2/IRWA_data_2023/Rus_Ukr_war_data.json'\n",
        "docs_path_csv = '/content/drive/Shareddrives/IRWA/Part2/IRWA_data_2023/Rus_Ukr_war_data_ids.csv'\n",
        "data_path_ev = '/content/drive/Shareddrives/IRWA/Part2/IRWA_data_2023/Evaluation_gt.csv'"
      ],
      "metadata": {
        "id": "XlcjXJqGoBUG"
      },
      "execution_count": 3,
      "outputs": []
    },
    {
      "cell_type": "markdown",
      "source": [
        "# 1. Funciones desarrolladas"
      ],
      "metadata": {
        "id": "WbGWMs52oRWb"
      }
    },
    {
      "cell_type": "markdown",
      "source": [
        "### Implementaciones Parte 1"
      ],
      "metadata": {
        "id": "DLyZWNoDooMA"
      }
    },
    {
      "cell_type": "code",
      "source": [
        "### FUNCTIONS TO READ DATA (WITH DESIRED FORMAT)\n",
        "\n",
        "def read_json_to_dict(json_to_trans):\n",
        "  trans_to_dict = [json.loads(line) for line in open(json_to_trans, 'r')]\n",
        "  return trans_to_dict\n",
        "\n",
        "def read_csv_to_dict(csv_to_trans):\n",
        "  data_col_names = ['doc', 'id']\n",
        "  csv_read = pd.read_csv(csv_to_trans, sep=\"\\t\", names=data_col_names)\n",
        "  trans_to_dict = csv_read.to_dict('records')\n",
        "  return trans_to_dict"
      ],
      "metadata": {
        "id": "60oeGY2ypWMO"
      },
      "execution_count": 4,
      "outputs": []
    },
    {
      "cell_type": "code",
      "source": [
        "### CLEAN FUNCTION\n",
        "\n",
        "def clean(text):\n",
        "  # Transform to lowercase\n",
        "  cleanTxt = text.lower()\n",
        "\n",
        "  # Removing the urls from tweets, starts with https\n",
        "  cleanTxt = re.sub('https?:\\/\\/.*[\\r\\n]*', '', text, flags=re.MULTILINE)\n",
        "  # Removing the entire hashtags, starts with '#'\n",
        "  cleanTxt = re.sub(r'#\\w+\\s*', '', cleanTxt)\n",
        "\n",
        "  # Removing nonalphanumeric\n",
        "  cleanTxt = re.sub(r'[\\W]+', ' ', cleanTxt)\n",
        "  cleanTxt = re.sub(r'[\\_]+', '', cleanTxt)\n",
        "\n",
        "  return cleanTxt"
      ],
      "metadata": {
        "id": "7g5Pki9QoRo5"
      },
      "execution_count": 5,
      "outputs": []
    },
    {
      "cell_type": "code",
      "source": [
        "### BUILD TERMS FUNCTION\n",
        "\n",
        "def build_terms(text):\n",
        "  stemmer = PorterStemmer()\n",
        "  stop_words = set(stopwords.words(\"english\"))\n",
        "\n",
        "  # Clean text\n",
        "  text = clean(text)\n",
        "\n",
        "  # Tokenize the text to get a list of terms\n",
        "  text = text.split()\n",
        "\n",
        "  # Eliminate the stopwords (HINT: use List Comprehension)\n",
        "  text = [word for word in text if word not in stop_words]\n",
        "\n",
        "  # Perform stemming (HINT: use List Comprehension)\n",
        "  text = [stemmer.stem(word) for word in text]\n",
        "\n",
        "  return text"
      ],
      "metadata": {
        "id": "4-PocylXo04P"
      },
      "execution_count": 6,
      "outputs": []
    },
    {
      "cell_type": "code",
      "source": [
        "### FUNCTION TO OBTAIN THE DIFFERENT WORDS OF A HASHTAG\n",
        "\n",
        "def separate_by_words(input_string):\n",
        "    words = re.findall(r'[A-Z][a-z]*', input_string)\n",
        "\n",
        "    # If there is only one or none words\n",
        "    if (words == None or len(words) == 0):\n",
        "      return input_string\n",
        "\n",
        "    # If there are 2 or more identified words\n",
        "    else:\n",
        "      return ' '.join(words)"
      ],
      "metadata": {
        "id": "37uNnWH0o3Iw"
      },
      "execution_count": 7,
      "outputs": []
    },
    {
      "cell_type": "code",
      "source": [
        "### FUNCTION TO OBTAIN THE ORIGINAL HASHTAGS OF A TWEET (IN A LIST)\n",
        "\n",
        "def getHashtagsFromTweet_Original(tweet):\n",
        "  length_hashtags = len(tweet[\"entities\"][\"hashtags\"]) # number of hashtags used in the tweet\n",
        "  hashtags = [] # empty hashtag list\n",
        "\n",
        "  # Loop the list of hashtags used in the tweet\n",
        "  for i in range(length_hashtags):\n",
        "    hashtags.append('#' + tweet[\"entities\"][\"hashtags\"][i][\"text\"])\n",
        "\n",
        "  # Return the list of hashtags used\n",
        "  return hashtags"
      ],
      "metadata": {
        "id": "k-ecDkWDo5s2"
      },
      "execution_count": 8,
      "outputs": []
    },
    {
      "cell_type": "code",
      "source": [
        "### FUNCTION TO OBTAIN THE HASHTAGS OF A TWEET (IN A LIST)\n",
        "\n",
        "def getHashtagsFromTweet(tweet):\n",
        "  length_hashtags = len(tweet[\"entities\"][\"hashtags\"]) # number of hashtags used in the tweet\n",
        "  hashtags = [] #empty hashtag list\n",
        "\n",
        "  # Loop the list of hashtags used in the tweet\n",
        "  for i in range(length_hashtags):\n",
        "    hash = separate_by_words(tweet[\"entities\"][\"hashtags\"][i][\"text\"])\n",
        "    hashtags.append(hash)\n",
        "\n",
        "  # Return the list of hashtags used\n",
        "  return hashtags"
      ],
      "metadata": {
        "id": "H31RMyBJo8BL"
      },
      "execution_count": 9,
      "outputs": []
    },
    {
      "cell_type": "code",
      "source": [
        "# FUNCTION TO TRANSFORM A LIST OF STRINGS TO A UNIQUE STRING\n",
        "\n",
        "def string_concat(stringList):\n",
        "  return ' '.join(stringList)"
      ],
      "metadata": {
        "id": "C9igun59pDr-"
      },
      "execution_count": 10,
      "outputs": []
    },
    {
      "cell_type": "code",
      "source": [
        "def prepare_hashtag_for_text(list_processed_hasthags):\n",
        "  # Join the hashtags into a single string and convert to lowercase\n",
        "  all_hashtags_text = ' '.join(list_processed_hasthags).lower()\n",
        "\n",
        "  # Split the text into individual words\n",
        "  words = all_hashtags_text.split()\n",
        "  return words"
      ],
      "metadata": {
        "id": "OoQcz7YqR0s5"
      },
      "execution_count": 11,
      "outputs": []
    },
    {
      "cell_type": "code",
      "source": [
        "# FUNCTION TO OBTAIN THE DESIRED INFORMATION OF EACH TWEET (IN A DICTIONARY)\n",
        "\n",
        "def getTweetInfo(tweet):\n",
        "  tweet_dict = {}\n",
        "  # Tweet ID\n",
        "  tweet_dict['ID'] = tweet['id']\n",
        "  # Text of the Tweet\n",
        "  tweet_dict['Tweet'] = tweet['full_text']\n",
        "  # Pre-Processed Tweet\n",
        "  tweet_dict['PreProcessed_Tweet'] = build_terms(tweet['full_text']) + prepare_hashtag_for_text(getHashtagsFromTweet(tweet))\n",
        "  # User's Tweet\n",
        "  tweet_dict['Username'] = '@' + tweet['user']['screen_name']\n",
        "  # Date of publication of the Tweet (with desired format)\n",
        "  original = datetime.datetime.strptime(tweet['created_at'], '%a %b %d %H:%M:%S +0000 %Y')\n",
        "  tweet_dict['Date'] = original.strftime('%d/%m/%Y %H:%M:%S')\n",
        "  # Hashtags\n",
        "  tweet_dict['Hashtags'] = getHashtagsFromTweet_Original(tweet)\n",
        "  # Processed Hashtags\n",
        "  tweet_dict['Processed_Hashtags'] = getHashtagsFromTweet(tweet)\n",
        "  # Num of Likes of the Tweet\n",
        "  tweet_dict['Likes'] = tweet['favorite_count']\n",
        "  # Num of Retweets of the Tweet\n",
        "  tweet_dict['Retweets'] = tweet['retweet_count']\n",
        "  # URL (Tweet Link) -> The pattern is always https://twitter.com/screen_name/status/id\n",
        "  tweet_dict['URL'] = 'https://twitter.com/' + tweet['user']['screen_name'] + '/status/' + tweet['id_str']\n",
        "  return tweet_dict"
      ],
      "metadata": {
        "id": "KfutEnKvpAk_"
      },
      "execution_count": 12,
      "outputs": []
    },
    {
      "cell_type": "code",
      "source": [
        "### FUNCTION TO CREATE A DICTIONARY THAT WILL CONTAIN ALL THE TWEET'S INFORMATION (DICTIONARY OF DICTIONARIES)\n",
        "\n",
        "def tweets_dict(json_doc, csv_doc):\n",
        "  tweets = {} # empty dictionary\n",
        "\n",
        "  # for each tweet in the json_doc\n",
        "  for t in json_doc:\n",
        "\n",
        "    # we look to match the tweet id from json_doc with the id from data_csv\n",
        "    for d in csv_doc:\n",
        "      if t['id'] == d['id']:\n",
        "        index = d['doc']\n",
        "        break\n",
        "\n",
        "    # Transform the original tweet into the format we want and save it with the key from data_csv (doc_xxxx)\n",
        "    tweets[index] = getTweetInfo(t)\n",
        "\n",
        "  # return the complete dictionary of preprocessed tweets\n",
        "  return tweets"
      ],
      "metadata": {
        "id": "4x__x88IpBNV"
      },
      "execution_count": 13,
      "outputs": []
    },
    {
      "cell_type": "markdown",
      "source": [
        "### Implementaciones Parte 2"
      ],
      "metadata": {
        "id": "isWyAOljpcOy"
      }
    },
    {
      "cell_type": "code",
      "source": [
        "# create_index\n",
        "\n",
        "def create_index(lines):\n",
        "    \"\"\"\n",
        "    Implement the inverted index\n",
        "\n",
        "    Argument:\n",
        "    lines -- collection of Wikipedia articles\n",
        "\n",
        "    Returns:\n",
        "    index - the inverted index (implemented through a Python dictionary) containing terms as keys and the corresponding\n",
        "    list of documents where these keys appears in (and the positions) as values.\n",
        "    \"\"\"\n",
        "    index = defaultdict(list)\n",
        "    title_index = {}  # dictionary to map page titles to page ids\n",
        "    for line in lines:  # Remember, lines contain all documents: article-id | article-title | article-body\n",
        "        line_arr = line.split(\"|\")\n",
        "        page_id = int(line_arr[0])\n",
        "        terms = build_terms(''.join(line_arr[1:])) # page_title + page_text\n",
        "        title = line_arr[1]\n",
        "        title_index[page_id]=title  ## we do not need to apply get terms to title because it used only to print titles and not in the index\n",
        "\n",
        "        ## ===============================================================\n",
        "        ## create the index for the current page and store it in current_page_index (current_page_index)\n",
        "        ## current_page_index ==> { ‘term1’: [current_doc, [list of positions]], ...,‘term_n’: [current_doc, [list of positions]]}\n",
        "\n",
        "        ## Example: if the curr_doc has id 1 and his text is\n",
        "        ##\"web retrieval information retrieval\":\n",
        "\n",
        "        ## current_page_index ==> { ‘web’: [1, [0]], ‘retrieval’: [1, [1,4]], ‘information’: [1, [2]]}\n",
        "\n",
        "        ## the term ‘web’ appears in document 1 in positions 0,\n",
        "        ## the term ‘retrieval’ appears in document 1 in positions 1 and 4\n",
        "        ## ===============================================================\n",
        "\n",
        "        current_page_index = {}\n",
        "\n",
        "        for position, term in enumerate(terms): # terms contains page_title + page_text. Loop over all terms\n",
        "            try:\n",
        "                # if the term is already in the index for the current page (current_page_index)\n",
        "                # append the position to the corresponding list\n",
        "\n",
        "        ## START CODE\n",
        "                current_page_index[term][1].append(position)\n",
        "            except:\n",
        "                # Add the new term as dict key and initialize the array of positions and add the position\n",
        "                current_page_index[term] = [page_id, array('I', [position])] #'I' indicates unsigned int (int in Python)\n",
        "\n",
        "        #merge the current page index with the main index\n",
        "        for term_page, posting_page in current_page_index.items():\n",
        "            index[term_page].append(posting_page)\n",
        "\n",
        "        ## END CODE\n",
        "\n",
        "    return index, title_index"
      ],
      "metadata": {
        "id": "LSNR4GLTxcHh"
      },
      "execution_count": 14,
      "outputs": []
    },
    {
      "cell_type": "code",
      "source": [
        "#search\n",
        "\n",
        "def search(query, index):\n",
        "    \"\"\"\n",
        "    The output is the list of documents that contain any of the query terms.\n",
        "    So, we will get the list of documents for each query term, and take the union of them.\n",
        "    \"\"\"\n",
        "    query = build_terms(query)\n",
        "    docs = set()\n",
        "    for term in query:\n",
        "    ## START DODE\n",
        "        try:\n",
        "            # store in term_docs the ids of the docs that contain \"term\"\n",
        "            term_docs=[posting[0] for posting in index[term]]\n",
        "            # docs = docs Union term_docs\n",
        "            docs = docs.union(set(term_docs))\n",
        "        except:\n",
        "            #term is not in index\n",
        "            pass\n",
        "    docs = list(docs)\n",
        "    return docs"
      ],
      "metadata": {
        "id": "eXp9IpzqK2Lf"
      },
      "execution_count": 15,
      "outputs": []
    },
    {
      "cell_type": "code",
      "source": [
        "def create_index_tfidf(lines, num_documents):\n",
        "    \"\"\"\n",
        "    Implement the inverted index and compute tf, df and idf\n",
        "\n",
        "    Argument:\n",
        "    lines -- collection of Wikipedia articles\n",
        "    num_documents -- total number of documents\n",
        "\n",
        "    Returns:\n",
        "    index - the inverted index (implemented through a Python dictionary) containing terms as keys and the corresponding\n",
        "    list of document these keys appears in (and the positions) as values.\n",
        "    tf - normalized term frequency for each term in each document\n",
        "    df - number of documents each term appear in\n",
        "    idf - inverse document frequency of each term\n",
        "    \"\"\"\n",
        "\n",
        "    index = defaultdict(list)\n",
        "    tf = defaultdict(list)  # term frequencies of terms in documents (documents in the same order as in the main index)\n",
        "    df = defaultdict(int)  # document frequencies of terms in the corpus\n",
        "    title_index = defaultdict(str)\n",
        "    idf = defaultdict(float)\n",
        "\n",
        "    for line in lines:\n",
        "        line_arr = line.split(\"|\")\n",
        "        page_id = int(line_arr[0])\n",
        "        terms = build_terms(''.join(line_arr[1:]))  # page_title + page_text\n",
        "        title = line_arr[1]\n",
        "        title_index[page_id] = title\n",
        "\n",
        "        ## ===============================================================\n",
        "        ## create the index for the **current page** and store it in current_page_index\n",
        "        ## current_page_index ==> { ‘term1’: [current_doc, [list of positions]], ...,‘term_n’: [current_doc, [list of positions]]}\n",
        "\n",
        "        ## Example: if the curr_doc has id 1 and his text is\n",
        "        ##\"web retrieval information retrieval\":\n",
        "\n",
        "        ## current_page_index ==> { ‘web’: [1, [0]], ‘retrieval’: [1, [1,4]], ‘information’: [1, [2]]}\n",
        "\n",
        "        ## the term ‘web’ appears in document 1 in positions 0,\n",
        "        ## the term ‘retrieval’ appears in document 1 in positions 1 and 4\n",
        "        ## ===============================================================\n",
        "\n",
        "        current_page_index = {}\n",
        "\n",
        "        for position, term in enumerate(terms):  ## terms contains page_title + page_text\n",
        "            try:\n",
        "                # if the term is already in the dict append the position to the corresponding list\n",
        "                current_page_index[term][1].append(position)\n",
        "            except:\n",
        "                # Add the new term as dict key and initialize the array of positions and add the position\n",
        "                current_page_index[term] = [page_id, array('I', [position])] #'I' indicates unsigned int (int in Python)\n",
        "\n",
        "        #normalize term frequencies\n",
        "        # Compute the denominator to normalize term frequencies (formula 2 above)\n",
        "        # norm is the same for all terms of a document.\n",
        "        norm = 0\n",
        "        for term, posting in current_page_index.items():\n",
        "            # posting will contain the list of positions for current term in current document.\n",
        "            # posting ==> [current_doc, [list of positions]]\n",
        "            # you can use it to infer the frequency of current term.\n",
        "            norm += len(posting[1]) ** 2\n",
        "        norm = math.sqrt(norm)\n",
        "\n",
        "        # calculate the tf(dividing the term frequency by the above computed norm) and df weights\n",
        "        for term, posting in current_page_index.items():\n",
        "            # append the tf for current term (tf = term frequency in current doc/norm)\n",
        "            tf[term].append(np.round(len(posting[1])/norm,4)) ## SEE formula (1) above\n",
        "            #increment the document frequency of current term (number of documents containing the current term)\n",
        "            df[term] += 1 # increment DF for current term\n",
        "\n",
        "        #merge the current page index with the main index\n",
        "        for term_page, posting_page in current_page_index.items():\n",
        "            index[term_page].append(posting_page)\n",
        "\n",
        "        # Compute IDF following the formula (3) above. HINT: use np.log\n",
        "        for term in df:\n",
        "            idf[term] = np.round(np.log(float(num_documents/df[term])), 4)\n",
        "\n",
        "    return index, tf, df, idf, title_index"
      ],
      "metadata": {
        "id": "WLula61na0do"
      },
      "execution_count": 16,
      "outputs": []
    },
    {
      "cell_type": "code",
      "source": [
        "# rank_documents\n",
        "\n",
        "def rank_documents(terms, docs, index, idf, tf):\n",
        "    \"\"\"\n",
        "    Perform the ranking of the results of a search based on the tf-idf weights\n",
        "\n",
        "    Argument:\n",
        "    terms -- list of query terms\n",
        "    docs -- list of documents, to rank, matching the query\n",
        "    index -- inverted index data structure\n",
        "    idf -- inverted document frequencies\n",
        "    tf -- term frequencies\n",
        "    title_index -- mapping between page id and page title\n",
        "\n",
        "    Returns:\n",
        "    Print the list of ranked documents\n",
        "    \"\"\"\n",
        "\n",
        "    # I'm interested only on the element of the docVector corresponding to the query terms\n",
        "    # The remaining elements would became 0 when multiplied to the query_vector\n",
        "    doc_vectors = defaultdict(lambda: [0] * len(terms)) # I call doc_vectors[k] for a nonexistent key k, the key-value pair (k,[0]*len(terms)) will be automatically added to the dictionary\n",
        "    query_vector = [0] * len(terms)\n",
        "\n",
        "    # compute the norm for the query tf\n",
        "    query_terms_count = collections.Counter(terms)  # get the frequency of each term in the query.\n",
        "    # Example: collections.Counter([\"hello\",\"hello\",\"world\"]) --> Counter({'hello': 2, 'world': 1})\n",
        "    # HINT: use when computing tf for query_vector\n",
        "\n",
        "    query_norm = la.norm(list(query_terms_count.values()))\n",
        "\n",
        "    for termIndex, term in enumerate(terms):  #termIndex is the index of the term in the query\n",
        "        if term not in index:\n",
        "            continue\n",
        "\n",
        "        ## Compute tf*idf(normalize TF as done with documents)\n",
        "        query_vector[termIndex]=(query_terms_count[term] / query_norm) * idf[term]\n",
        "\n",
        "        # Generate doc_vectors for matching docs\n",
        "        for doc_index, (doc, postings) in enumerate(index[term]):\n",
        "            # Example of [doc_index, (doc, postings)]\n",
        "            # 0 (26, array('I', [1, 4, 12, 15, 22, 28, 32, 43, 51, 68, 333, 337]))\n",
        "            # 1 (33, array('I', [26, 33, 57, 71, 87, 104, 109]))\n",
        "            # term is in doc 26 in positions 1,4, .....\n",
        "            # term is in doc 33 in positions 26,33, .....\n",
        "\n",
        "            #tf[term][0] will contain the tf of the term \"term\" in the doc 26\n",
        "            if doc in docs:\n",
        "                doc_vectors[doc][termIndex] = tf[term][doc_index] * idf[term]  # TODO: check if multiply for idf\n",
        "\n",
        "    # Calculate the score of each doc\n",
        "    # compute the cosine similarity between queyVector and each docVector:\n",
        "    # HINT: you can use the dot product because in case of normalized vectors it corresponds to the cosine similarity\n",
        "    # see np.dot\n",
        "\n",
        "    doc_scores=[[np.dot(curDocVec, query_vector), doc] for doc, curDocVec in doc_vectors.items() ]\n",
        "    doc_scores.sort(reverse=True)\n",
        "    result_docs = [x[1] for x in doc_scores]\n",
        "    result_scores = [x[0] for x in doc_scores]\n",
        "    #print document titles instead if document id's\n",
        "    #result_docs=[ title_index[x] for x in result_docs ]\n",
        "    if len(result_docs) == 0:\n",
        "        print(\"No results found, try again\")\n",
        "        query = input()\n",
        "        #docs = search_tf_idf(query, index, title_index)\n",
        "    #print ('\\n'.join(result_docs), '\\n')\n",
        "    return result_docs, result_scores"
      ],
      "metadata": {
        "id": "JN0yTUQ3xaJm"
      },
      "execution_count": 17,
      "outputs": []
    },
    {
      "cell_type": "code",
      "source": [
        "#search_tf_idf\n",
        "def search_tf_idf(query, index):\n",
        "    \"\"\"\n",
        "    output is the list of documents that contain any of the query terms.\n",
        "    So, we will get the list of documents for each query term, and take the union of them.\n",
        "    \"\"\"\n",
        "    query = build_terms(query)\n",
        "    docs = set()\n",
        "    for term in query:\n",
        "        try:\n",
        "            # store in term_docs the ids of the docs that contain \"term\"\n",
        "            term_docs=[posting[0] for posting in index[term]]\n",
        "\n",
        "            # docs = docs Union term_docs\n",
        "            docs = docs.union(set(term_docs))\n",
        "        except:\n",
        "            #term is not in index\n",
        "            pass\n",
        "    docs = list(docs)\n",
        "    ranked_docs, ranked_scores = rank_documents(query, docs, index, idf, tf)\n",
        "    return ranked_docs, ranked_scores"
      ],
      "metadata": {
        "id": "6_ODMEQcPGKd"
      },
      "execution_count": 18,
      "outputs": []
    },
    {
      "cell_type": "code",
      "source": [
        "def precision_at_k(doc_score, y_score, k=10):\n",
        "    \"\"\"\n",
        "    Parameters\n",
        "    ----------\n",
        "    doc_score: Ground truth (true relevance labels).\n",
        "    y_score: Predicted scores.\n",
        "    k : number of doc to consider.\n",
        "\n",
        "    Returns\n",
        "    -------\n",
        "    precision @k : float\n",
        "\n",
        "    \"\"\"\n",
        "    order = np.argsort(y_score)[::-1]\n",
        "    doc_score = np.take(doc_score, order[:k])\n",
        "    relevant = sum(doc_score == 1)\n",
        "    return float(relevant) / k"
      ],
      "metadata": {
        "id": "On0INIHguZBB"
      },
      "execution_count": 19,
      "outputs": []
    },
    {
      "cell_type": "code",
      "source": [
        "def recall_at_k(doc_score, y_score, k=10):\n",
        "    \"\"\"\n",
        "    Parameters\n",
        "    ----------\n",
        "    doc_score: Ground truth (true relevance labels).\n",
        "    y_score: Predicted scores.\n",
        "    k : number of doc to consider.\n",
        "\n",
        "    Returns\n",
        "    -------\n",
        "    recall @k : float\n",
        "\n",
        "    \"\"\"\n",
        "    order = np.argsort(y_score)[::-1]\n",
        "    doc_score = np.take(doc_score, order) # y_true\n",
        "    relevant = doc_score[:k].sum()\n",
        "    total_relevant = doc_score.sum()\n",
        "    if total_relevant == 0:\n",
        "      return 0.0\n",
        "    return relevant / total_relevant"
      ],
      "metadata": {
        "id": "Ud6q2jtUoSZf"
      },
      "execution_count": 20,
      "outputs": []
    },
    {
      "cell_type": "code",
      "source": [
        "def avg_precision_at_k(doc_score, y_score, k=10):\n",
        "    \"\"\"\n",
        "    Parameters\n",
        "    ----------\n",
        "    doc_score: Ground truth (true relevance labels).\n",
        "    y_score: Predicted scores.\n",
        "    k : number of doc to consider.\n",
        "\n",
        "    Returns\n",
        "    -------\n",
        "    average precision @k : float\n",
        "    \"\"\"\n",
        "    gtp = np.sum(doc_score == 1)\n",
        "    order = np.argsort(y_score)[::-1]\n",
        "    doc_score = np.take(doc_score, order[:k])\n",
        "    ## if all documents are not relevant\n",
        "    if gtp == 0:\n",
        "        return 0\n",
        "    n_relevant_at_i = 0\n",
        "    prec_at_i = 0\n",
        "    for i in range(len(doc_score)):\n",
        "        if doc_score[i] == 1:\n",
        "            n_relevant_at_i += 1\n",
        "            prec_at_i += n_relevant_at_i / (i + 1)\n",
        "    return prec_at_i / gtp"
      ],
      "metadata": {
        "id": "TXAhrtTJxP25"
      },
      "execution_count": 21,
      "outputs": []
    },
    {
      "cell_type": "code",
      "source": [
        "def f1_score_at_k(doc_score, y_score, k=10):\n",
        "    \"\"\"\n",
        "    Parameters\n",
        "    ----------\n",
        "    doc_score: Ground truth (true relevance labels).\n",
        "    y_score: Predicted scores.\n",
        "    k : number of doc to consider.\n",
        "\n",
        "    Returns\n",
        "    -------\n",
        "    F1-Score @k : float\n",
        "\n",
        "    \"\"\"\n",
        "    precision = precision_at_k(doc_score, y_score, k)\n",
        "    recall = recall_at_k(doc_score, y_score, k)\n",
        "\n",
        "    if precision + recall == 0:\n",
        "        return 0\n",
        "\n",
        "    f1_score = 2 * (precision * recall) / (precision + recall)\n",
        "    return f1_score"
      ],
      "metadata": {
        "id": "KLFA7j_VseVA"
      },
      "execution_count": 22,
      "outputs": []
    },
    {
      "cell_type": "code",
      "source": [
        "def map_at_k(search_res, k=10):\n",
        "    \"\"\"\n",
        "    Parameters\n",
        "    ----------\n",
        "    search_res: search results dataset containing:\n",
        "        query_id: query id.\n",
        "        doc_id: document id.\n",
        "        predicted_relevance: relevance predicted through LightGBM.\n",
        "        doc_score: actual score of the document for the query (ground truth).\n",
        "\n",
        "    Returns\n",
        "    -------\n",
        "    mean average precision @ k : float\n",
        "    \"\"\"\n",
        "    avp = []\n",
        "    for q in search_res['query_id'].unique():  # loop over all query id\n",
        "        curr_data = search_res[search_res['query_id'] == q] # select data for current query\n",
        "        avp.append(avg_precision_at_k(np.array(curr_data['ground_truth']), np.array(curr_data['score']), k))  #append average precision for current query\n",
        "    return np.sum(avp) / len(avp)  # return mean average precision"
      ],
      "metadata": {
        "id": "H5bNf7s7ydPu"
      },
      "execution_count": 23,
      "outputs": []
    },
    {
      "cell_type": "code",
      "source": [
        "def rr_at_k(doc_score, y_score, k=10):\n",
        "    \"\"\"\n",
        "    Parameters\n",
        "    ----------\n",
        "    doc_score: Ground truth (true relevance labels).\n",
        "    y_score: Predicted scores.\n",
        "    k : number of doc to consider.\n",
        "\n",
        "    Returns\n",
        "    -------\n",
        "    Reciprocal Rank for qurrent query\n",
        "    \"\"\"\n",
        "\n",
        "    order = np.argsort(y_score)[::-1]  # get the list of indexes of the predicted score sorted in descending order.\n",
        "    doc_score = np.take(doc_score, order[\n",
        "                             :k])  # sort the actual relevance label of the documents based on predicted score(hint: np.take) and take first k.\n",
        "    if np.sum(doc_score) == 0:  # if there are not relevant doument return 0\n",
        "        return 0\n",
        "    return 1 / (np.argmax(doc_score == 1) + 1)  # hint: to get the position of the first relevant document use \"np.argmax\""
      ],
      "metadata": {
        "id": "9jV7HDosiha0"
      },
      "execution_count": 24,
      "outputs": []
    },
    {
      "cell_type": "code",
      "source": [
        "# mrr_at_k\n",
        "def mrr_at_k(search_results, k):\n",
        "  RRs = []\n",
        "  for q in search_results['query_id'].unique():  # loop over all query ids\n",
        "      labels = np.array(search_results[search_results['query_id'] == q][\"ground_truth\"])  # get labels for current query\n",
        "      scores = np.array(search_results[search_results['query_id'] == q][\"score\"])  # get predicted score for current query\n",
        "      RRs.append(rr_at_k(labels, scores, k))  # append RR for current query\n",
        "  return np.round(float(sum(RRs) / len(RRs)), 4)  # Mean RR at current k"
      ],
      "metadata": {
        "id": "u-LLYeujzNCg"
      },
      "execution_count": 25,
      "outputs": []
    },
    {
      "cell_type": "code",
      "source": [
        "# dcg_at k\n",
        "def dcg_at_k(doc_score, y_score, k=10):\n",
        "    order = np.argsort(y_score)[::-1]  # get the list of indexes of the predicted score sorted in descending order.\n",
        "    doc_score = np.take(doc_score, order[:k])  # sort the actual relevance label of the documents based on predicted score(hint: np.take) and take first k.\n",
        "    gain = 2 ** doc_score - 1  # Compute gain (use formula 7 above)\n",
        "    discounts = np.log2(np.arange(len(doc_score)) + 2)  # Compute denominator\n",
        "    return np.sum(gain / discounts)  #return dcg@k"
      ],
      "metadata": {
        "id": "XEuzbiVyzquP"
      },
      "execution_count": 26,
      "outputs": []
    },
    {
      "cell_type": "code",
      "source": [
        "# ndcg_at_k\n",
        "def ndcg_at_k(doc_score, y_score, k=10):\n",
        "    dcg_max = dcg_at_k(doc_score, doc_score, k)\n",
        "    if not dcg_max:\n",
        "        return 0\n",
        "    return np.round(dcg_at_k(doc_score, y_score, k) / dcg_max, 4)"
      ],
      "metadata": {
        "id": "efbZdoOoz4VW"
      },
      "execution_count": 27,
      "outputs": []
    },
    {
      "cell_type": "markdown",
      "source": [
        "# Solución"
      ],
      "metadata": {
        "id": "Du4Affw9poaL"
      }
    },
    {
      "cell_type": "markdown",
      "source": [
        "### Parte 1"
      ],
      "metadata": {
        "id": "HffzKxgbpvoK"
      }
    },
    {
      "cell_type": "code",
      "source": [
        "# Read data and store it\n",
        "data_json = read_json_to_dict(docs_path_json)\n",
        "data_csv = read_csv_to_dict(docs_path_csv)"
      ],
      "metadata": {
        "id": "RSHM-ejfp6IZ"
      },
      "execution_count": 28,
      "outputs": []
    },
    {
      "cell_type": "code",
      "source": [
        "# Generation of tweets dictionary\n",
        "get_tweets = tweets_dict(data_json, data_csv)"
      ],
      "metadata": {
        "id": "zzEA3If0qAgU"
      },
      "execution_count": 29,
      "outputs": []
    },
    {
      "cell_type": "markdown",
      "source": [
        "#### Comprobaciones Parte 1"
      ],
      "metadata": {
        "id": "SK65b-H_qIzA"
      }
    },
    {
      "cell_type": "code",
      "source": [
        "get_tweets['doc_3904']"
      ],
      "metadata": {
        "colab": {
          "base_uri": "https://localhost:8080/"
        },
        "id": "tXlwOdO6RWH8",
        "outputId": "151c7920-936f-478b-ef72-6664b37b2917"
      },
      "execution_count": 30,
      "outputs": [
        {
          "output_type": "execute_result",
          "data": {
            "text/plain": [
              "{'ID': 1575164742859378689,\n",
              " 'Tweet': 'Whether you are visiting Nigeria or you living in Nigeria, we understand the importance of information; we know that a lot of our customers sometimes are looking for ideas of where to go and spend their leisure.\\n#WelcomeToIndonesia_NCTDREAM #logistics #usa #UkraineRussiaWar #uk https://t.co/T3I9gNVpne',\n",
              " 'PreProcessed_Tweet': ['whether',\n",
              "  'visit',\n",
              "  'nigeria',\n",
              "  'live',\n",
              "  'nigeria',\n",
              "  'understand',\n",
              "  'import',\n",
              "  'inform',\n",
              "  'know',\n",
              "  'lot',\n",
              "  'custom',\n",
              "  'sometim',\n",
              "  'look',\n",
              "  'idea',\n",
              "  'go',\n",
              "  'spend',\n",
              "  'leisur',\n",
              "  'welcome',\n",
              "  'to',\n",
              "  'indonesia',\n",
              "  'n',\n",
              "  'c',\n",
              "  't',\n",
              "  'd',\n",
              "  'r',\n",
              "  'e',\n",
              "  'a',\n",
              "  'm',\n",
              "  'logistics',\n",
              "  'usa',\n",
              "  'ukraine',\n",
              "  'russia',\n",
              "  'war',\n",
              "  'uk'],\n",
              " 'Username': '@simpreslogistis',\n",
              " 'Date': '28/09/2022 16:45:14',\n",
              " 'Hashtags': ['#WelcomeToIndonesia_NCTDREAM',\n",
              "  '#logistics',\n",
              "  '#usa',\n",
              "  '#UkraineRussiaWar',\n",
              "  '#uk'],\n",
              " 'Processed_Hashtags': ['Welcome To Indonesia N C T D R E A M',\n",
              "  'logistics',\n",
              "  'usa',\n",
              "  'Ukraine Russia War',\n",
              "  'uk'],\n",
              " 'Likes': 3,\n",
              " 'Retweets': 0,\n",
              " 'URL': 'https://twitter.com/simpreslogistis/status/1575164742859378689'}"
            ]
          },
          "metadata": {},
          "execution_count": 30
        }
      ]
    },
    {
      "cell_type": "code",
      "source": [
        "# TWEET : Original vs Pre- Processed\n",
        "print(get_tweets['doc_3904'][\"Tweet\"] + \"\\n\")\n",
        "print(string_concat(get_tweets['doc_3904'][\"PreProcessed_Tweet\"]))"
      ],
      "metadata": {
        "colab": {
          "base_uri": "https://localhost:8080/"
        },
        "id": "IV8FUpU2qOut",
        "outputId": "821a6531-d4b4-4ec1-9880-76e1289d1f78"
      },
      "execution_count": 31,
      "outputs": [
        {
          "output_type": "stream",
          "name": "stdout",
          "text": [
            "Whether you are visiting Nigeria or you living in Nigeria, we understand the importance of information; we know that a lot of our customers sometimes are looking for ideas of where to go and spend their leisure.\n",
            "#WelcomeToIndonesia_NCTDREAM #logistics #usa #UkraineRussiaWar #uk https://t.co/T3I9gNVpne\n",
            "\n",
            "whether visit nigeria live nigeria understand import inform know lot custom sometim look idea go spend leisur welcome to indonesia n c t d r e a m logistics usa ukraine russia war uk\n"
          ]
        }
      ]
    },
    {
      "cell_type": "code",
      "source": [
        "# HASHTAG: Original vs Pre-Processed vs 2n Pre-Processed\n",
        "print(get_tweets['doc_3904'][\"Hashtags\"], \"\\n\")\n",
        "print(get_tweets['doc_3904'][\"Processed_Hashtags\"], \"\\n\")\n",
        "print(prepare_hashtag_for_text(get_tweets['doc_3904'][\"Processed_Hashtags\"]))"
      ],
      "metadata": {
        "colab": {
          "base_uri": "https://localhost:8080/"
        },
        "id": "NZX6e1FoqTzA",
        "outputId": "657fee2c-2eba-46f4-cb5b-6696e3f372cc"
      },
      "execution_count": 32,
      "outputs": [
        {
          "output_type": "stream",
          "name": "stdout",
          "text": [
            "['#WelcomeToIndonesia_NCTDREAM', '#logistics', '#usa', '#UkraineRussiaWar', '#uk'] \n",
            "\n",
            "['Welcome To Indonesia N C T D R E A M', 'logistics', 'usa', 'Ukraine Russia War', 'uk'] \n",
            "\n",
            "['welcome', 'to', 'indonesia', 'n', 'c', 't', 'd', 'r', 'e', 'a', 'm', 'logistics', 'usa', 'ukraine', 'russia', 'war', 'uk']\n"
          ]
        }
      ]
    },
    {
      "cell_type": "markdown",
      "source": [
        "### Implementaciones Parte 2"
      ],
      "metadata": {
        "id": "jNErLyxPqYr9"
      }
    },
    {
      "cell_type": "markdown",
      "source": [
        "#### Indexing"
      ],
      "metadata": {
        "id": "qY7BTrSw0Bdz"
      }
    },
    {
      "cell_type": "code",
      "source": [
        "tweet_lines_list = []\n",
        "for key_tweet, values_tweet in get_tweets.items():\n",
        "  tweet_id = str(values_tweet['ID'])\n",
        "  doc_id = key_tweet\n",
        "  tweet_text = values_tweet['PreProcessed_Tweet']\n",
        "  tweet_text = string_concat(tweet_text)\n",
        "  tweet_line = \"|\".join([tweet_id, doc_id, tweet_text])\n",
        "  tweet_lines_list.append(tweet_line)\n",
        "\n",
        "print(tweet_lines_list[1])"
      ],
      "metadata": {
        "colab": {
          "base_uri": "https://localhost:8080/"
        },
        "id": "7VZy2zoHRmhp",
        "outputId": "b55add15-4c33-42b8-e1c6-81ecb15a56a1"
      },
      "execution_count": 33,
      "outputs": [
        {
          "output_type": "stream",
          "name": "stdout",
          "text": [
            "1575918081461080065|doc_2|the arm forc liber villag urban territori commun region drobysheve lymansk donetsk ukraine russia war ukraine war ukraine ukraine will win ukrainian army ukrainecounteroffensive ukraine war news slava ukra stand with ukraine\n"
          ]
        }
      ]
    },
    {
      "cell_type": "code",
      "source": [
        "import time\n",
        "start_time = time.time()\n",
        "index1, title_index1 = create_index(tweet_lines_list)\n",
        "print(\"Total time to create the index: {} seconds\".format(np.round(time.time() - start_time, 2)))"
      ],
      "metadata": {
        "id": "L3e1nouX1WWe",
        "colab": {
          "base_uri": "https://localhost:8080/"
        },
        "outputId": "43388be6-1098-49ef-a5ac-8c16acec80d9"
      },
      "execution_count": 34,
      "outputs": [
        {
          "output_type": "stream",
          "name": "stdout",
          "text": [
            "Total time to create the index: 4.3 seconds\n"
          ]
        }
      ]
    },
    {
      "cell_type": "code",
      "source": [
        "print(\"Insert your query (i.e.: presidents visiting Kyiv):\\n\")\n",
        "query_try = input()\n",
        "docs = search(query_try, index1)\n",
        "top = 10\n",
        "\n",
        "print(\"\\n======================\\nSample of {} results out of {} for the searched query:\\n======================\".format(top, len(docs)))\n",
        "for d_id in docs[:top]:\n",
        "    print(\"\\n\\033[1mtweet_id = {} - tweet_title: {}\\033[0m\".format(d_id, title_index1[d_id]))\n",
        "    print(\"tweet_text: {}\".format(get_tweets[title_index1[d_id]]['Tweet']))"
      ],
      "metadata": {
        "colab": {
          "base_uri": "https://localhost:8080/"
        },
        "id": "-tsEr8XEUQne",
        "outputId": "a191dfaf-c23e-451a-90d6-1cc107913542"
      },
      "execution_count": 35,
      "outputs": [
        {
          "output_type": "stream",
          "name": "stdout",
          "text": [
            "Insert your query (i.e.: presidents visiting Kyiv):\n",
            "\n",
            "presidents visiting Kyiv\n",
            "\n",
            "======================\n",
            "Sample of 10 results out of 206 for the searched query:\n",
            "======================\n",
            "\n",
            "\u001b[1mtweet_id = 1575910966206038016 - tweet_title: doc_58\u001b[0m\n",
            "tweet_text: As Europe prepares to defend Ukraine French leaders are donning masks in their traditional battle flag colors #UkraineRussiaWar #UkraineWillWin #BidenWorstPresidentInHistory https://t.co/EWMecu3DAP\n",
            "\n",
            "\u001b[1mtweet_id = 1575913989195718657 - tweet_title: doc_30\u001b[0m\n",
            "tweet_text: Former Russian Prime Minister Mikhail Kasyanov believes that Russian President Vladimir #Putin could step down from his position and flee #Russia in a few months.\n",
            "#Ukraine️ #UkraineRussiaWar #NATO #Putler https://t.co/VzzStxdktj\n",
            "\n",
            "\u001b[1mtweet_id = 1575905170952982529 - tweet_title: doc_131\u001b[0m\n",
            "tweet_text: ⚡️BREAKING: After Putin's unilateral declaration of the annexation of occupied Ukraine, President Volodymyr Zelensky has announced that Kyiv has formally requested to join NATO.\n",
            "https://t.co/aRQwsKpZlL\n",
            "\n",
            "#WARINUKRAINE #UKRAINEWAR #UKRAINERUSSIAWAR #UKRAINE https://t.co/sz0rkTLlrl\n",
            "\n",
            "\u001b[1mtweet_id = 1575908651658641408 - tweet_title: doc_87\u001b[0m\n",
            "tweet_text: ⚡️\"#Ukraine is ready to talk with Russia, but only with a different Russian president.\"\n",
            "Zelensky words after Putin’s speech formalizing the annexation, in which he asked Kyiv for negotiations to end the war\n",
            "https://t.co/aRQwsKH2nL\n",
            "\n",
            "#WARINUKRAINE #UKRAINEWAR #UKRAINERUSSIAWAR https://t.co/DLwKgztFqG\n",
            "\n",
            "\u001b[1mtweet_id = 1575901742398861312 - tweet_title: doc_156\u001b[0m\n",
            "tweet_text: The United States on Friday announced \"severe\" new sanctions on Russia in response to what President Joe Biden called Moscow's \"fraudulent\" claim to have annexed four Ukrainian regions. #RUKIGAFMUpdates #UkraineRussiaWar #Russia #Ukraine️ https://t.co/tdKWdUCG4H\n",
            "\n",
            "\u001b[1mtweet_id = 1575897160633430018 - tweet_title: doc_203\u001b[0m\n",
            "tweet_text: STOP 🛑 sending our tax dollars to the #UkraineRussiaWar. #BidenIsADisgrace #BidenWorstPresidentInHistory https://t.co/zryQtYgBGc\n",
            "\n",
            "\u001b[1mtweet_id = 1575904025756696582 - tweet_title: doc_143\u001b[0m\n",
            "tweet_text: #UkraineWar #Ukraine #Russia #ukrainerussiawar #Putin #SanktionengegendieUSA #MAGA #俄罗斯 #乌克兰 #中國\n",
            "\n",
            "Maria Zakharova:\n",
            "\n",
            "There is no need to speculate. We must admit what the President of the United States spoke about when he promised to put an end to Nord Stream 2. https://t.co/CJvjLtfnbp\n",
            "\n",
            "\u001b[1mtweet_id = 1575892959572418560 - tweet_title: doc_233\u001b[0m\n",
            "tweet_text: Zelenskyy, President of Ukraine, submits \"accelerated\" NATO application. This comes after Russia annexed four Ukrainian territories a few hours ago. Well, shit #annexation #Russia #UkraineWar #Ukraine #UkraineRussiaWar #Zelensky https://t.co/WUPJRaHNZk\n",
            "\n",
            "\u001b[1mtweet_id = 1575890966489071619 - tweet_title: doc_247\u001b[0m\n",
            "tweet_text: The Russian President, Sir Vladimir Putin announces Russian annexation of four Ukraine regions.\n",
            "The move has been condemned by Ukraine and Western countries and represents a major escalation in the 7-month war  #TrendingNow #Russia #Putin #Ukraine #UkraineWar #UkraineRussiaWar https://t.co/DjqCyWmZT5\n",
            "\n",
            "\u001b[1mtweet_id = 1575887266362249216 - tweet_title: doc_281\u001b[0m\n",
            "tweet_text: The President of Russian Federation Vladimir Putin just signed decrees recognizing Kherson and Zaporozhye regions as independent territories.\n",
            "\n",
            "#UkraineRussiaWar #Ukraine #UkraineUnderAttack #UkraineWar #UkraineWarCrimes #Ukrainian #UkraineRussiaConflict #StopPutinNOW #StopRussia https://t.co/cKwgUkdRM9\n"
          ]
        }
      ]
    },
    {
      "cell_type": "code",
      "source": [
        "start_time = time.time()\n",
        "num_tweets = len(tweet_lines_list)\n",
        "index2, tf, df, idf, title_index2 = create_index_tfidf(tweet_lines_list, num_tweets)\n",
        "print(\"Total time to create the index: {} seconds\" .format(np.round(time.time() - start_time, 2)))"
      ],
      "metadata": {
        "colab": {
          "base_uri": "https://localhost:8080/"
        },
        "id": "7r3ha4HoVgFg",
        "outputId": "85d2567d-e7a4-437f-dcc8-4e85206520e8"
      },
      "execution_count": 36,
      "outputs": [
        {
          "output_type": "stream",
          "name": "stdout",
          "text": [
            "Total time to create the index: 299.9 seconds\n"
          ]
        }
      ]
    },
    {
      "cell_type": "code",
      "source": [
        "## OUR QUERY 1\n",
        "print(\"**QUERY 1**\\n\")\n",
        "new_q1 = \"Eastern separatists groups\"\n",
        "print(new_q1)\n",
        "ranked_docs, ranked_scores = search_tf_idf(new_q1, index2)\n",
        "top = 10\n",
        "i = 0\n",
        "print(\"\\n======================\\nTop {} results out of {} for the searched query:\\n\".format(top, len(ranked_docs)))\n",
        "for d_id in ranked_docs[:top]:\n",
        "    print(\"\\n\\033[1mtweet_id = {} - tweet_title: {} - score: {}\\033[0m\".format(d_id, title_index2[d_id], ranked_scores[i]))\n",
        "    print(\"\\033[1mtweet_text:\\033[0m {}\".format(get_tweets[title_index2[d_id]]['Tweet']))\n",
        "    i = i+1"
      ],
      "metadata": {
        "colab": {
          "base_uri": "https://localhost:8080/"
        },
        "id": "sG75N28SNwsg",
        "outputId": "b9cd6f28-99cc-4024-f88d-5a8ba251a0c8"
      },
      "execution_count": 37,
      "outputs": [
        {
          "output_type": "stream",
          "name": "stdout",
          "text": [
            "**QUERY 1**\n",
            "\n",
            "Eastern separatists groups\n",
            "\n",
            "======================\n",
            "Top 10 results out of 55 for the searched query:\n",
            "\n",
            "\n",
            "\u001b[1mtweet_id = 1575842840768569344 - tweet_title: doc_538 - score: 9.068672454039067\u001b[0m\n",
            "\u001b[1mtweet_text:\u001b[0m The spokesman of the Eastern group of troops Cherevaty reported that the encirclement of the Russian group near Lyman in Donetsk region is \"at the stage of completion\"\n",
            "#UkraineRussiaWar https://t.co/drAsg9PDes\n",
            "\n",
            "\u001b[1mtweet_id = 1575818569857658880 - tweet_title: doc_812 - score: 7.9992014749313505\u001b[0m\n",
            "\u001b[1mtweet_text:\u001b[0m First Official APU Report on Lyman:  \"The operation to encircle the Russian group in the Estuary is at the completion stage\" —  Sergey Cherevaty, Eastern Grouping \n",
            "\n",
            "#UkraineRussiaWar \n",
            "#OSINT\n",
            "#Fellas #NAFO\n",
            "\n",
            "\u001b[1mtweet_id = 1575821202064834560 - tweet_title: doc_776 - score: 7.348035242319465\u001b[0m\n",
            "\u001b[1mtweet_text:\u001b[0m Cherevaty, the spokesperson of the Eastern group of troops, reported the encirclement of the #Russian group near #Lyman in the #Donetsk region is “at the stage of completion.” #Ukraine #UkraineRussiaWar #UkraineWar \n",
            "\n",
            "📷 Tpyxa https://t.co/jUcJncxRJ6\n",
            "\n",
            "\u001b[1mtweet_id = 1575820237010006017 - tweet_title: doc_790 - score: 7.255889456636643\u001b[0m\n",
            "\u001b[1mtweet_text:\u001b[0m Update: Addition comments from APU Eastern Grouping\n",
            "\n",
            "#UkraineRussiaWar \n",
            "#OSINT\n",
            "#Fellas #NAFO https://t.co/svKSKcy403\n",
            "\n",
            "\u001b[1mtweet_id = 1575180675002486785 - tweet_title: doc_3778 - score: 6.671130033545804\u001b[0m\n",
            "\u001b[1mtweet_text:\u001b[0m @nytimes Wherever these 200k draft dodgers have gone, they're many enough to be the future Russian separatists beloved by Putin #UkraineRussiaWar #RussianArmy #Russians\n",
            "\n",
            "\u001b[1mtweet_id = 1575818037130731520 - tweet_title: doc_820 - score: 6.655307724400341\u001b[0m\n",
            "\u001b[1mtweet_text:\u001b[0m ❗️Official comment on the situation in Lyman from the military\n",
            "\n",
            " 💬 \"The operation to encircle the Russian group in Lyman is \"at the stage of completion\", - the representative of the Eastern group Serhiy Chereviy.\n",
            "#UkraineWillWin \n",
            "#UkraineWar \n",
            "#UkraineRussiaWar \n",
            "#Russian https://t.co/vuKHUpOfoF\n",
            "\n",
            "\u001b[1mtweet_id = 1575785557896007682 - tweet_title: doc_1183 - score: 5.720494003765528\u001b[0m\n",
            "\u001b[1mtweet_text:\u001b[0m The head of the Russian-backed separatist administration in east Ukraine's Donetsk region said the Russian stronghold of Lyman was \"semi-encircled\" by the Ukrainian army and that news from the front was \"alarming.\"\n",
            "\n",
            "#Russia | #Donetsk | #UkraineRussiaWar \n",
            "\n",
            "https://t.co/sGp1vw7334\n",
            "\n",
            "\u001b[1mtweet_id = 1575488992929513473 - tweet_title: doc_2382 - score: 4.629911409155417\u001b[0m\n",
            "\u001b[1mtweet_text:\u001b[0m Ukrainian Forces at the Eastern front in action. https://t.co/ocDykq9rI5 lewat @YouTube #war #ukraine #russia #ukrainerussiawar #nowar\n",
            "\n",
            "\u001b[1mtweet_id = 1575353426564857857 - tweet_title: doc_2977 - score: 3.6605877681494445\u001b[0m\n",
            "\u001b[1mtweet_text:\u001b[0m Russian attack hits a school in eastern Ukraine's town of Mykolaivka being used by residents as a shelter.\n",
            "\n",
            "#UkraineRussiaWar \n",
            "https://t.co/s5ji7BpJ8h\n",
            "\n",
            "\u001b[1mtweet_id = 1575822314586808320 - tweet_title: doc_745 - score: 3.3648667793298763\u001b[0m\n",
            "\u001b[1mtweet_text:\u001b[0m Reports of #Russian battle groups and bombers en route to #Lyman are just to cover the retreat, I think.  The settlement is gone. #UkraineRussiaWar\n"
          ]
        }
      ]
    },
    {
      "cell_type": "code",
      "source": [
        "## QUERY 2\n",
        "print(\"**QUERY 2**\\n\")\n",
        "new_q2 = \"Humanitarian impact\"\n",
        "print(new_q2)\n",
        "ranked_docs, ranked_scores = search_tf_idf(new_q2, index2)\n",
        "top = 10\n",
        "i = 0\n",
        "print(\"\\n======================\\nTop {} results out of {} for the searched query:\\n\".format(top, len(ranked_docs)))\n",
        "for d_id in ranked_docs[:top]:\n",
        "    print(\"\\n\\033[1mtweet_id = {} - tweet_title: {} - score: {}\\033[0m\".format(d_id, title_index2[d_id], ranked_scores[i]))\n",
        "    print(\"\\033[1mtweet_text:\\033[0m {}\".format(get_tweets[title_index2[d_id]]['Tweet']))\n",
        "    i = i+1"
      ],
      "metadata": {
        "colab": {
          "base_uri": "https://localhost:8080/"
        },
        "id": "_x69evZ7lOvX",
        "outputId": "3df3887a-eef9-4e7d-86e8-a51e9c288e12"
      },
      "execution_count": 38,
      "outputs": [
        {
          "output_type": "stream",
          "name": "stdout",
          "text": [
            "**QUERY 2**\n",
            "\n",
            "Humanitarian impact\n",
            "\n",
            "======================\n",
            "Top 10 results out of 30 for the searched query:\n",
            "\n",
            "\n",
            "\u001b[1mtweet_id = 1575722456823738370 - tweet_title: doc_1426 - score: 7.143300400638406\u001b[0m\n",
            "\u001b[1mtweet_text:\u001b[0m ❗Russian missile attack on the humanitarian convoy from Zaporizhzhia to occupied territories. People were heading to rescue their relatives left in russia-controlled areas and provide humanitarian aid.\n",
            "\n",
            "#UkraineRussiaWar https://t.co/ZlYntJRliA\n",
            "\n",
            "\u001b[1mtweet_id = 1575684580295970817 - tweet_title: doc_1540 - score: 6.736325307562501\u001b[0m\n",
            "\u001b[1mtweet_text:\u001b[0m Here’s how the war in Ukraine 🇺🇦 is impacting world trade and investment acc to @wef \n",
            "\n",
            "#SupplyChain #Procurement #economy #UkraineRussiaWar #foodcrisis #logistics https://t.co/NNCRHhTFsW\n",
            "\n",
            "\u001b[1mtweet_id = 1575417601781530626 - tweet_title: doc_2753 - score: 5.339770060872714\u001b[0m\n",
            "\u001b[1mtweet_text:\u001b[0m India and China opting to make positive impact in Ukraine \n",
            "\n",
            "https://t.co/Pi8PpSrMg3\n",
            "\n",
            "#TheIsland #TheIslandnewspaper #TheIslandOnline #features #featurestory #India  #China #positiveimpact #Ukraine #UkraineRussiaWar #RussianUkrainianWar https://t.co/e6BQbgAFNK\n",
            "\n",
            "\u001b[1mtweet_id = 1575708323932164098 - tweet_title: doc_1458 - score: 4.995370690082699\u001b[0m\n",
            "\u001b[1mtweet_text:\u001b[0m 2/2 The rockets destroyed the transport company. During the fire, which was caused by the impact 52 buses burned down, almost a hundred townspeople were injured.\n",
            "#RussiaIsATerroristState #Ukrainian #UkraineWillWin #UkrainianArmy #ukrainecounteroffensive #Ukraine #UkraineRussiaWar\n",
            "\n",
            "\u001b[1mtweet_id = 1575360480406814721 - tweet_title: doc_2951 - score: 4.935337772238568\u001b[0m\n",
            "\u001b[1mtweet_text:\u001b[0m The US has seized upon Russia’s invasion of #Ukraine to escalate the war with #Russia and impose the cutoff of EU energy trade with Russia that it had long sought. The impact on Europe is devastating.\n",
            "\n",
            "#Nordstream\n",
            "#UkraineRussiaWar https://t.co/mhWBxMslgh\n",
            "\n",
            "\u001b[1mtweet_id = 1575822715973402624 - tweet_title: doc_740 - score: 4.8684451736120495\u001b[0m\n",
            "\u001b[1mtweet_text:\u001b[0m @EliotHiggins @bellingcat Is there a look into the terrible incident with the humanitarian convoy in Zaporizhzhia region? Both sides once again blaming each other. #UkraineRussiaWar\n",
            "\n",
            "\u001b[1mtweet_id = 1575397849013096448 - tweet_title: doc_2811 - score: 4.657290573802592\u001b[0m\n",
            "\u001b[1mtweet_text:\u001b[0m #UkraineRussiaWar #Ukraine #Russia\n",
            "\n",
            "🛢️#Nordstream 1&amp;2 will forever remain unusable if urgent repairs aren't done. Russia does not have the corresponding equipment. The cost of infrastructure is 17 billion EUR. This will impact the Russia economy for a long time, less the EU - RIP https://t.co/65n1vvNsBA\n",
            "\n",
            "\u001b[1mtweet_id = 1575742923068813314 - tweet_title: doc_1388 - score: 4.072519045341019\u001b[0m\n",
            "\u001b[1mtweet_text:\u001b[0m 📽️Russians shelled the outskirts of #Zaporizhzhia and hit a civilian humanitarian convoy heading towards the occupied parts. 23 people were killed, a dozen more wounded.\n",
            "#UkraineRussiaWar https://t.co/365j43jy51\n",
            "\n",
            "\u001b[1mtweet_id = 1575743037996572672 - tweet_title: doc_1386 - score: 3.974166617591281\u001b[0m\n",
            "\u001b[1mtweet_text:\u001b[0m #NewsAlert | 23 killed after Russian attack on humanitarian convoy in Ukraine: Governor | reported by news agency AFP \n",
            "\n",
            "#UkraineRussiaWar\n",
            "\n",
            "\u001b[1mtweet_id = 1575804828562890753 - tweet_title: doc_981 - score: 3.7974965158926763\u001b[0m\n",
            "\u001b[1mtweet_text:\u001b[0m In #Izyum – prized by the Russians as a key tactical position and logistics hub – the world is witnessing even more appalling scenes of murder and the aftermath of the catastrophic humanitarian situation.\n",
            "\n",
            "#UkraineRussiaWar #Kharkiv \n",
            "\n",
            "https://t.co/a0momMID6c\n"
          ]
        }
      ]
    },
    {
      "cell_type": "code",
      "source": [
        "## QUERY 3\n",
        "print(\"**QUERY 3**\\n\")\n",
        "new_q3 = \"Media coverage of war\"\n",
        "print(new_q3)\n",
        "ranked_docs, ranked_scores = search_tf_idf(new_q3, index2)\n",
        "top = 10\n",
        "i = 0\n",
        "print(\"\\n======================\\nTop {} results out of {} for the searched query:\\n\".format(top, len(ranked_docs)))\n",
        "for d_id in ranked_docs[:top]:\n",
        "    print(\"\\n\\033[1mtweet_id = {} - tweet_title: {} - score: {}\\033[0m\".format(d_id, title_index2[d_id], ranked_scores[i]))\n",
        "    print(\"\\033[1mtweet_text:\\033[0m {}\".format(get_tweets[title_index2[d_id]]['Tweet']))\n",
        "    i = i+1"
      ],
      "metadata": {
        "colab": {
          "base_uri": "https://localhost:8080/"
        },
        "id": "nylhnhAIlgcU",
        "outputId": "080cd3de-9919-49d7-dc88-b99f04af18e1"
      },
      "execution_count": 39,
      "outputs": [
        {
          "output_type": "stream",
          "name": "stdout",
          "text": [
            "**QUERY 3**\n",
            "\n",
            "Media coverage of war\n",
            "\n",
            "======================\n",
            "Top 10 results out of 3929 for the searched query:\n",
            "\n",
            "\n",
            "\u001b[1mtweet_id = 1575813822786551808 - tweet_title: doc_883 - score: 4.870877111750377\u001b[0m\n",
            "\u001b[1mtweet_text:\u001b[0m Ukraine is not better than Russia.\n",
            "Today they killed 23 people in Rocket attack on a civil convoy.\n",
            "Although I am against the invasion but I am also against western biased coverage that turns back on ukraine war crimes.\n",
            "#UkraineRussiaWar \n",
            "#poundcrash\n",
            "\n",
            "\u001b[1mtweet_id = 1575242122684293120 - tweet_title: doc_3355 - score: 4.698775773590212\u001b[0m\n",
            "\u001b[1mtweet_text:\u001b[0m You might think it's conspiracist nonsense to accuse Biden of sabotaging #NordStream2 which media all blame on Russia, but look in the comments at the video of him threatening to do just that: shows nothing western media claims on #UkraineRussiaWar can be trusted #NordstreamLeaks https://t.co/lH3kdGaMEI\n",
            "\n",
            "\u001b[1mtweet_id = 1575810496116117504 - tweet_title: doc_926 - score: 4.592619972554513\u001b[0m\n",
            "\u001b[1mtweet_text:\u001b[0m Coming soon on SGN, live coverage as Putin holds treaty ceremony to officially annex areas of Ukraine. #UkraineRussiaWar #UkraineWar #Ukraine️ #Putin \n",
            "\n",
            "https://t.co/Vi4U6UPcA8\n",
            "\n",
            "\u001b[1mtweet_id = 1575819110251757569 - tweet_title: doc_802 - score: 4.303342768519564\u001b[0m\n",
            "\u001b[1mtweet_text:\u001b[0m SGN #live coverage of treaty ceremony from Moscow as Russia officially annexes areas of Ukraine is now live with our interactive chat and English translations #UkraineRussiaWar #UkraineWar #Ukraine️ #Putin \n",
            "\n",
            "https://t.co/Vi4U6UPcA8\n",
            "\n",
            "\u001b[1mtweet_id = 1575816865401954304 - tweet_title: doc_837 - score: 3.821214114252134\u001b[0m\n",
            "\u001b[1mtweet_text:\u001b[0m #LIVE:\n",
            "#Putin Annexes Liberated Territories -BREAKING NEWS COVERAGE (Ceremony &amp; Speech).. https://t.co/Ud4u6RQJSY via @lookner #Kharkiv #Lyman #Kiev #Kyiv #Ukraine #Kherson #Zaporozhye #Odessa #Mykolayiv #Kharkiv #Russia #UkraineRussiaWar #ukraineWar #NATO #WagnerGriup #LVIV #DPR\n",
            "\n",
            "\u001b[1mtweet_id = 1575763015894372355 - tweet_title: doc_1271 - score: 3.7580116496514258\u001b[0m\n",
            "\u001b[1mtweet_text:\u001b[0m Europe blames #Russia for war. This is one more propaganda propagated using media, social media &amp; inflow of US dollars. Why did you keep expanding @NATO? Why didn't you reach a breakthrough agreement in 3 decades?\n",
            "\n",
            "3/\n",
            "@Europarl_EN\n",
            "@EU_Commission\n",
            "\n",
            "#UkraineRussiaWar\n",
            "#UkraineWar\n",
            "\n",
            "\u001b[1mtweet_id = 1575795770195726336 - tweet_title: doc_1083 - score: 3.6862267502924295\u001b[0m\n",
            "\u001b[1mtweet_text:\u001b[0m #UkraineRussiaWar #Ukraine #Russia\n",
            "\n",
            "🌐 Social media\n",
            "#Dagestan mobilization https://t.co/HI1zjMeK9W\n",
            "\n",
            "\u001b[1mtweet_id = 1575755162936696832 - tweet_title: doc_1331 - score: 3.552013014971761\u001b[0m\n",
            "\u001b[1mtweet_text:\u001b[0m #UkraineRussiaWar #Ukraine #Russia\n",
            "\n",
            "🌐 Social media\n",
            "Reservists before their departure for the front https://t.co/pvwLKSojq5\n",
            "\n",
            "\u001b[1mtweet_id = 1575749242412761089 - tweet_title: doc_1356 - score: 3.3221221614026946\u001b[0m\n",
            "\u001b[1mtweet_text:\u001b[0m #UkraineRussiaWar #Ukraine #Russia\n",
            "\n",
            "🌐 Social media\n",
            "Russians forces reportedly flees from #Lyman https://t.co/q59JOGhM9E\n",
            "\n",
            "\u001b[1mtweet_id = 1575524817431838720 - tweet_title: doc_2257 - score: 3.2224584965606136\u001b[0m\n",
            "\u001b[1mtweet_text:\u001b[0m I wouldn’t be surprised if i see this as a headline in #western  propagandists media.\n",
            "#UkraineRussiaWar #NordStream2 #Nordstream #EnergyCrisis #EU https://t.co/MWL5QwK1xF\n"
          ]
        }
      ]
    },
    {
      "cell_type": "code",
      "source": [
        "## QUERY 4\n",
        "print(\"**QUERY 4**\\n\")\n",
        "new_q4 = \"Negotiations in war\"\n",
        "print(new_q4)\n",
        "ranked_docs, ranked_scores = search_tf_idf(new_q4, index2)\n",
        "top = 10\n",
        "i = 0\n",
        "print(\"\\n======================\\nTop {} results out of {} for the searched query:\\n\".format(top, len(ranked_docs)))\n",
        "for d_id in ranked_docs[:top]:\n",
        "    print(\"\\n\\033[1mtweet_id = {} - tweet_title: {} - score: {}\\033[0m\".format(d_id, title_index2[d_id], ranked_scores[i]))\n",
        "    print(\"\\033[1mtweet_text:\\033[0m {}\".format(get_tweets[title_index2[d_id]]['Tweet']))\n",
        "    i = i+1"
      ],
      "metadata": {
        "colab": {
          "base_uri": "https://localhost:8080/"
        },
        "id": "s0uAYn21ltIA",
        "outputId": "d4240251-0dd4-4390-da12-6eff917e582b"
      },
      "execution_count": 40,
      "outputs": [
        {
          "output_type": "stream",
          "name": "stdout",
          "text": [
            "**QUERY 4**\n",
            "\n",
            "Negotiations in war\n",
            "\n",
            "======================\n",
            "Top 10 results out of 3928 for the searched query:\n",
            "\n",
            "\n",
            "\u001b[1mtweet_id = 1575324772199710720 - tweet_title: doc_3067 - score: 6.153608314723627\u001b[0m\n",
            "\u001b[1mtweet_text:\u001b[0m Noam Chomsky: \"Most of the world... is calling for #Negotiations now, while the US insists that priority must be to severely weaken #Russia, hence no negotiations.\" (1/2)\n",
            "\n",
            "#Ukraine #UkraineRussiaWar\n",
            "https://t.co/QB1QlH5Fdz\n",
            "\n",
            "\u001b[1mtweet_id = 1575776384324374528 - tweet_title: doc_1218 - score: 4.730562863510461\u001b[0m\n",
            "\u001b[1mtweet_text:\u001b[0m #EXCLUSIVE : Dmitry Peskov on the possibility of negotiations with Volodymyr Zelensky: #Kyiv has left the negotiation track, #Moscow's demands do not change, the Special Military Operation (SVO) will continue...\n",
            "\n",
            "#RussianArmy #UkraineRussiaWar #UkraineWar #UkrainianArmy\n",
            "\n",
            "\u001b[1mtweet_id = 1575845160134451200 - tweet_title: doc_515 - score: 4.120218268516906\u001b[0m\n",
            "\u001b[1mtweet_text:\u001b[0m 3o/9\n",
            "🇺🇦⚡️🇷🇺\n",
            "negotiating table\".\n",
            "But we already know that negotiations with #Russia will not last more than one round of machine gun fire\n",
            "\n",
            "#Ukraine #Ukrainian #UkraineKrieg #UkraineWar #UkraineRussiaWar #stopPutin #UkraineCounterOffensive #Donbass #Kherson #NATO #Europe #USA https://t.co/Eeu5QkuP3u\n",
            "\n",
            "\u001b[1mtweet_id = 1575825005291524098 - tweet_title: doc_699 - score: 3.804847410949541\u001b[0m\n",
            "\u001b[1mtweet_text:\u001b[0m 🚨 PUTIN: We are ready for negotiations. #KREMLIN #UkraineRussiaWar #PUTIN #Zalewski\n",
            "\n",
            "\u001b[1mtweet_id = 1575871713317105665 - tweet_title: doc_349 - score: 3.6981547825187917\u001b[0m\n",
            "\u001b[1mtweet_text:\u001b[0m Breaking: Pres. Zelenskyy just announced the UA will not negotiate with RUS while Putin is in power.\n",
            "\n",
            "#UkraineRussiaWar \n",
            "#OSINT\n",
            "#Fellas #NAFO\n",
            "\n",
            "\u001b[1mtweet_id = 1575653403417628672 - tweet_title: doc_1657 - score: 3.6981547825187917\u001b[0m\n",
            "\u001b[1mtweet_text:\u001b[0m Ukraine does not stop working on exchanging prisoners with the Russian Federation; negotiations on the exchange of “all for all” are ongoing  ⛓️\n",
            "#Ukraine️ #UkraineRussiaWar \n",
            "https://t.co/iQbCElFWmj\n",
            "\n",
            "\u001b[1mtweet_id = 1575247684621012993 - tweet_title: doc_3305 - score: 3.599360930834501\u001b[0m\n",
            "\u001b[1mtweet_text:\u001b[0m That awkward moment when your US masters are telling you to negotiate. But the war is going so well for Ukraine we're told. #UkraineRussiaWar  https://t.co/WEc2vFPwYu\n",
            "\n",
            "\u001b[1mtweet_id = 1575304304004562944 - tweet_title: doc_3123 - score: 3.508357036332147\u001b[0m\n",
            "\u001b[1mtweet_text:\u001b[0m Defcon 2 is coming. \n",
            "Beware of nuclear war. \n",
            "Demand peace negotiations.\n",
            "#UkraineRussiaWar #NordStream2 #Russia #US https://t.co/YUeV3V2V3z\n",
            "\n",
            "\u001b[1mtweet_id = 1575860740556460032 - tweet_title: doc_417 - score: 3.2713842687957917\u001b[0m\n",
            "\u001b[1mtweet_text:\u001b[0m 🇺🇦🇷🇺Ukraine will not hold any negotiations with Russia while Putin is president, Zelensky stated (September 30, 2022).\n",
            "\n",
            "#Ukraine #Ukrainewar #UkraineRussiaWar #Zelensky\n",
            "\n",
            "\u001b[1mtweet_id = 1575861001769013248 - tweet_title: doc_415 - score: 3.20234786216413\u001b[0m\n",
            "\u001b[1mtweet_text:\u001b[0m 🇺🇦🇷🇺Lavrov: we need to take Putin's phrase seriously that the longer Kyiv refuses to negotiate, the more difficult it will be to agree (September 30, 2022).\n",
            "\n",
            "#Ukraine #Ukrainewar #UkraineRussiaWar #Lavrov #Zelensky\n"
          ]
        }
      ]
    },
    {
      "cell_type": "code",
      "source": [
        "## QUERY 5\n",
        "print(\"**QUERY 5**\\n\")\n",
        "new_q5 = \"Russian propaganda and disinformation\"\n",
        "print(new_q5)\n",
        "ranked_docs, ranked_scores = search_tf_idf(new_q5, index2)\n",
        "top = 10\n",
        "i = 0\n",
        "print(\"\\n======================\\nTop {} results out of {} for the searched query:\\n\".format(top, len(ranked_docs)))\n",
        "for d_id in ranked_docs[:top]:\n",
        "    print(\"\\n\\033[1mtweet_id = {} - tweet_title: {} - score: {}\\033[0m\".format(d_id, title_index2[d_id], ranked_scores[i]))\n",
        "    print(\"\\033[1mtweet_text:\\033[0m {}\".format(get_tweets[title_index2[d_id]]['Tweet']))\n",
        "    i = i+1"
      ],
      "metadata": {
        "colab": {
          "base_uri": "https://localhost:8080/"
        },
        "id": "O9mjtaIlltzX",
        "outputId": "3132268d-67bd-4ae0-eb8e-3f0797e52f34"
      },
      "execution_count": 41,
      "outputs": [
        {
          "output_type": "stream",
          "name": "stdout",
          "text": [
            "**QUERY 5**\n",
            "\n",
            "Russian propaganda and disinformation\n",
            "\n",
            "======================\n",
            "Top 10 results out of 1509 for the searched query:\n",
            "\n",
            "\n",
            "\u001b[1mtweet_id = 1575413884617383936 - tweet_title: doc_2762 - score: 19.435317936601205\u001b[0m\n",
            "\u001b[1mtweet_text:\u001b[0m Fake news - A typical British propaganda and disinformation\n",
            "\n",
            "#Ukraine #Ukrainewar #UkraineRussiaWar #Propaganda #Fake #Disinformation https://t.co/lFVEGyLhfK\n",
            "\n",
            "\u001b[1mtweet_id = 1575245412423897105 - tweet_title: doc_3324 - score: 7.953635177621761\u001b[0m\n",
            "\u001b[1mtweet_text:\u001b[0m @RebelNewsOnline How about a concerted effort of disinformation to the benefit of #Russiangas? #ONGT #natgas #UkraineRussiaWar https://t.co/OrC5gFvxYo\n",
            "\n",
            "\u001b[1mtweet_id = 1575793780350889984 - tweet_title: doc_1098 - score: 7.240923415464685\u001b[0m\n",
            "\u001b[1mtweet_text:\u001b[0m #UkraineRussiaWar #Kharkiv #Izium #warehouse #russians #propaganda #referendum russian warehouse with ammunition, propaganda leaflets found in Izium https://t.co/GNj3TUoysk\n",
            "\n",
            "\u001b[1mtweet_id = 1575228605088468992 - tweet_title: doc_3439 - score: 7.028208537130871\u001b[0m\n",
            "\u001b[1mtweet_text:\u001b[0m US State Department: The claim that Washington is behind the Nord Stream incident is unreasonable and part of the Russian disinformation.\n",
            "\n",
            "#UkraineRussiaWar\n",
            "\n",
            "\u001b[1mtweet_id = 1575642353905573889 - tweet_title: doc_1717 - score: 6.239974890355639\u001b[0m\n",
            "\u001b[1mtweet_text:\u001b[0m @OrinocoTribune @raymcgovern Your source is a Venezuelan propaganda site?  And they have no hatred for USA?   think again, just more friends of #RussiaIsANaziState spewing propaganda filth.\n",
            "\n",
            "#UkraineRussiaWar \n",
            "#Ukraine https://t.co/VZ8WIXVY5x\n",
            "\n",
            "\u001b[1mtweet_id = 1575784366957301760 - tweet_title: doc_1187 - score: 4.3032830437981255\u001b[0m\n",
            "\u001b[1mtweet_text:\u001b[0m #DOPPELGANGER: How Russia-based actors cloned legitimate media outlets from multiple countries (🇩🇪🇬🇧🇫🇷🇮🇹🇱🇻🇺🇦) to spread #disinformation designed to undermine the support for #Ukraine. #UkraineRussiaWar \n",
            "\n",
            "@DisinfoEU last investigation: https://t.co/lydkTWOgW6\n",
            "\n",
            "\u001b[1mtweet_id = 1575533133901930496 - tweet_title: doc_2217 - score: 3.4716025524620107\u001b[0m\n",
            "\u001b[1mtweet_text:\u001b[0m #American #propaganda and Nord Stream 2 exposed in 4 minutes 👇👇\n",
            "https://t.co/Dc03Tcaqw0\n",
            "#Ukraine #UkraineRussiaWar #NordStream2 #NATO #EU\n",
            "\n",
            "\u001b[1mtweet_id = 1575453048075436047 - tweet_title: doc_2627 - score: 3.3621786042315183\u001b[0m\n",
            "\u001b[1mtweet_text:\u001b[0m @RichJones89 @AnonOpsSE C'mon, Jones. If you are a defective person,do not think that everyone around you is the same as you.\n",
            "\n",
            "Here is a couple of examples of 'Russian' propaganda:\n",
            "1. https://t.co/W5CEOVNJIL\n",
            "\n",
            "2. https://t.co/JFakO1uTfD\n",
            "\n",
            "3. https://t.co/h4AHjemP3K\n",
            "\n",
            "#Ukraine #Ukrainewar #UkraineRussiaWar\n",
            "\n",
            "\u001b[1mtweet_id = 1575673820085510144 - tweet_title: doc_1580 - score: 3.3172737497173657\u001b[0m\n",
            "\u001b[1mtweet_text:\u001b[0m I’ll have to read this instalment on the Ukraine- bribery, militias and the dirty war waged in the name of democracy. \n",
            "\n",
            "We get good guy - bad guy propaganda but the truth is all the more shocking. #ukrainerussiawar  \n",
            "#auspol\n",
            "\n",
            "\u001b[1mtweet_id = 1575472762554048512 - tweet_title: doc_2470 - score: 3.3172737497173657\u001b[0m\n",
            "\u001b[1mtweet_text:\u001b[0m Television news outlets in the Propaganda State have actually started a countdown clock for Putin's signing of the annexation of occupied territories.\n",
            "\n",
            "#UkraineRussiaWar \n",
            "#OSINT\n",
            "#Fellas #NAFO https://t.co/rqUV8f7c2P\n"
          ]
        }
      ]
    },
    {
      "cell_type": "markdown",
      "source": [
        "#### Evaluation"
      ],
      "metadata": {
        "id": "lmJGuDCIUZZ-"
      }
    },
    {
      "cell_type": "code",
      "source": [
        "# baseline with 3 queries and the ground truth files for each query\n",
        "evaluation_csv = pd.read_csv(data_path_ev)"
      ],
      "metadata": {
        "id": "YT8CAVDqPmN0"
      },
      "execution_count": 42,
      "outputs": []
    },
    {
      "cell_type": "code",
      "source": [
        "print_result = evaluation_csv[\"label\"].unique()\n",
        "print(\"The ground truth of our dataset is composed of {} Relevance Levels: {}\".format(len(print_result), sorted(print_result)))"
      ],
      "metadata": {
        "colab": {
          "base_uri": "https://localhost:8080/"
        },
        "id": "Gx-7isV2eFv0",
        "outputId": "782371e6-5f3c-4807-86f9-ba21675d4f58"
      },
      "execution_count": 43,
      "outputs": [
        {
          "output_type": "stream",
          "name": "stdout",
          "text": [
            "The ground truth of our dataset is composed of 2 Relevance Levels: [0, 1]\n"
          ]
        }
      ]
    },
    {
      "cell_type": "markdown",
      "source": [
        "####[GIVEN QUERIES]"
      ],
      "metadata": {
        "id": "Gno7iJMK178e"
      }
    },
    {
      "cell_type": "code",
      "source": [
        "# queries definition\n",
        "q1 = \"tank in Kharkiv\"\n",
        "q2 = \"Nord Stream pipeline\"\n",
        "q3 = \"annexation territories Russia\"\n",
        "\n",
        "# create the dataframe with this 3 queries\n",
        "queries = [q1,q2,q3]\n",
        "queries_df = pd.DataFrame(columns = [\"tweet_id\", \"query_id\", \"score\", 'ground_truth'])\n",
        "list_to_ev = []\n",
        "\n",
        "# get the tweets_id\n",
        "doc_xxx = evaluation_csv[\"doc\"].values\n",
        "labels_doc_xxx = evaluation_csv[\"label\"].values\n",
        "for i in range(len(evaluation_csv[\"doc\"])):\n",
        "  list_to_ev.append((doc_xxx[i],get_tweets[doc_xxx[i]]['ID'], labels_doc_xxx[i]))"
      ],
      "metadata": {
        "id": "kKVB2Kr3eceK"
      },
      "execution_count": 44,
      "outputs": []
    },
    {
      "cell_type": "code",
      "source": [
        "for i in range(len(queries)):\n",
        "  ranked_docs, ranked_scores = search_tf_idf(queries[i], index2)\n",
        "\n",
        "  for j in range(len(list_to_ev)):\n",
        "\n",
        "    if (i == 2 and j >= 0 and j <= 19):\n",
        "      try:\n",
        "        queries_df = queries_df.append({\"tweet_id\": list_to_ev[j][1], \"query_id\": int(i+1), \"score\": ranked_scores[ranked_docs.index(list_to_ev[j][1])], \"ground_truth\": int(list_to_ev[j][2])}, ignore_index=True)\n",
        "      except:\n",
        "        queries_df = queries_df.append({\"tweet_id\": list_to_ev[j][1], \"query_id\": int(i+1), \"score\": 0, \"ground_truth\": int(list_to_ev[j][2])}, ignore_index=True)\n",
        "\n",
        "\n",
        "    elif (i == 1 and j >= 20 and j <= 39):\n",
        "      try:\n",
        "        queries_df = queries_df.append({\"tweet_id\": list_to_ev[j][1], \"query_id\": int(i+1), \"score\": ranked_scores[ranked_docs.index(list_to_ev[j][1])], \"ground_truth\": int(list_to_ev[j][2])}, ignore_index=True)\n",
        "      except:\n",
        "        queries_df = queries_df.append({\"tweet_id\": list_to_ev[j][1], \"query_id\": int(i+1), \"score\": 0, \"ground_truth\": int(list_to_ev[j][2])}, ignore_index=True)\n",
        "\n",
        "    elif (i == 0 and j >= 40 and j <= 59):\n",
        "      try:\n",
        "        queries_df = queries_df.append({\"tweet_id\": list_to_ev[j][1], \"query_id\": int(i+1), \"score\": ranked_scores[ranked_docs.index(list_to_ev[j][1])], \"ground_truth\": int(list_to_ev[j][2])}, ignore_index=True)\n",
        "      except:\n",
        "        queries_df = queries_df.append({\"tweet_id\": list_to_ev[j][1], \"query_id\": int(i+1), \"score\": 0, \"ground_truth\": int(list_to_ev[j][2])}, ignore_index=True)\n",
        "\n",
        "# we sort by score, respecting the query_id value\n",
        "queries_df = queries_df.sort_values(by=['query_id','score'], ascending = [True, False])\n",
        "\n",
        "queries_df.head()"
      ],
      "metadata": {
        "colab": {
          "base_uri": "https://localhost:8080/",
          "height": 206
        },
        "id": "3V2LPJ52lNEj",
        "outputId": "ba60590e-d3aa-4138-c79c-8b01e2fceadb"
      },
      "execution_count": 45,
      "outputs": [
        {
          "output_type": "execute_result",
          "data": {
            "text/plain": [
              "        tweet_id  query_id     score  ground_truth\n",
              "0   1.575529e+18       1.0  4.698085           1.0\n",
              "1   1.575448e+18       1.0  3.713707           1.0\n",
              "6   1.575435e+18       1.0  3.266190           1.0\n",
              "10  1.575754e+18       1.0  2.870063           0.0\n",
              "3   1.575834e+18       1.0  2.164526           1.0"
            ],
            "text/html": [
              "\n",
              "  <div id=\"df-77b90989-0fb2-4cbc-aa75-2e764d171509\" class=\"colab-df-container\">\n",
              "    <div>\n",
              "<style scoped>\n",
              "    .dataframe tbody tr th:only-of-type {\n",
              "        vertical-align: middle;\n",
              "    }\n",
              "\n",
              "    .dataframe tbody tr th {\n",
              "        vertical-align: top;\n",
              "    }\n",
              "\n",
              "    .dataframe thead th {\n",
              "        text-align: right;\n",
              "    }\n",
              "</style>\n",
              "<table border=\"1\" class=\"dataframe\">\n",
              "  <thead>\n",
              "    <tr style=\"text-align: right;\">\n",
              "      <th></th>\n",
              "      <th>tweet_id</th>\n",
              "      <th>query_id</th>\n",
              "      <th>score</th>\n",
              "      <th>ground_truth</th>\n",
              "    </tr>\n",
              "  </thead>\n",
              "  <tbody>\n",
              "    <tr>\n",
              "      <th>0</th>\n",
              "      <td>1.575529e+18</td>\n",
              "      <td>1.0</td>\n",
              "      <td>4.698085</td>\n",
              "      <td>1.0</td>\n",
              "    </tr>\n",
              "    <tr>\n",
              "      <th>1</th>\n",
              "      <td>1.575448e+18</td>\n",
              "      <td>1.0</td>\n",
              "      <td>3.713707</td>\n",
              "      <td>1.0</td>\n",
              "    </tr>\n",
              "    <tr>\n",
              "      <th>6</th>\n",
              "      <td>1.575435e+18</td>\n",
              "      <td>1.0</td>\n",
              "      <td>3.266190</td>\n",
              "      <td>1.0</td>\n",
              "    </tr>\n",
              "    <tr>\n",
              "      <th>10</th>\n",
              "      <td>1.575754e+18</td>\n",
              "      <td>1.0</td>\n",
              "      <td>2.870063</td>\n",
              "      <td>0.0</td>\n",
              "    </tr>\n",
              "    <tr>\n",
              "      <th>3</th>\n",
              "      <td>1.575834e+18</td>\n",
              "      <td>1.0</td>\n",
              "      <td>2.164526</td>\n",
              "      <td>1.0</td>\n",
              "    </tr>\n",
              "  </tbody>\n",
              "</table>\n",
              "</div>\n",
              "    <div class=\"colab-df-buttons\">\n",
              "\n",
              "  <div class=\"colab-df-container\">\n",
              "    <button class=\"colab-df-convert\" onclick=\"convertToInteractive('df-77b90989-0fb2-4cbc-aa75-2e764d171509')\"\n",
              "            title=\"Convert this dataframe to an interactive table.\"\n",
              "            style=\"display:none;\">\n",
              "\n",
              "  <svg xmlns=\"http://www.w3.org/2000/svg\" height=\"24px\" viewBox=\"0 -960 960 960\">\n",
              "    <path d=\"M120-120v-720h720v720H120Zm60-500h600v-160H180v160Zm220 220h160v-160H400v160Zm0 220h160v-160H400v160ZM180-400h160v-160H180v160Zm440 0h160v-160H620v160ZM180-180h160v-160H180v160Zm440 0h160v-160H620v160Z\"/>\n",
              "  </svg>\n",
              "    </button>\n",
              "\n",
              "  <style>\n",
              "    .colab-df-container {\n",
              "      display:flex;\n",
              "      gap: 12px;\n",
              "    }\n",
              "\n",
              "    .colab-df-convert {\n",
              "      background-color: #E8F0FE;\n",
              "      border: none;\n",
              "      border-radius: 50%;\n",
              "      cursor: pointer;\n",
              "      display: none;\n",
              "      fill: #1967D2;\n",
              "      height: 32px;\n",
              "      padding: 0 0 0 0;\n",
              "      width: 32px;\n",
              "    }\n",
              "\n",
              "    .colab-df-convert:hover {\n",
              "      background-color: #E2EBFA;\n",
              "      box-shadow: 0px 1px 2px rgba(60, 64, 67, 0.3), 0px 1px 3px 1px rgba(60, 64, 67, 0.15);\n",
              "      fill: #174EA6;\n",
              "    }\n",
              "\n",
              "    .colab-df-buttons div {\n",
              "      margin-bottom: 4px;\n",
              "    }\n",
              "\n",
              "    [theme=dark] .colab-df-convert {\n",
              "      background-color: #3B4455;\n",
              "      fill: #D2E3FC;\n",
              "    }\n",
              "\n",
              "    [theme=dark] .colab-df-convert:hover {\n",
              "      background-color: #434B5C;\n",
              "      box-shadow: 0px 1px 3px 1px rgba(0, 0, 0, 0.15);\n",
              "      filter: drop-shadow(0px 1px 2px rgba(0, 0, 0, 0.3));\n",
              "      fill: #FFFFFF;\n",
              "    }\n",
              "  </style>\n",
              "\n",
              "    <script>\n",
              "      const buttonEl =\n",
              "        document.querySelector('#df-77b90989-0fb2-4cbc-aa75-2e764d171509 button.colab-df-convert');\n",
              "      buttonEl.style.display =\n",
              "        google.colab.kernel.accessAllowed ? 'block' : 'none';\n",
              "\n",
              "      async function convertToInteractive(key) {\n",
              "        const element = document.querySelector('#df-77b90989-0fb2-4cbc-aa75-2e764d171509');\n",
              "        const dataTable =\n",
              "          await google.colab.kernel.invokeFunction('convertToInteractive',\n",
              "                                                    [key], {});\n",
              "        if (!dataTable) return;\n",
              "\n",
              "        const docLinkHtml = 'Like what you see? Visit the ' +\n",
              "          '<a target=\"_blank\" href=https://colab.research.google.com/notebooks/data_table.ipynb>data table notebook</a>'\n",
              "          + ' to learn more about interactive tables.';\n",
              "        element.innerHTML = '';\n",
              "        dataTable['output_type'] = 'display_data';\n",
              "        await google.colab.output.renderOutput(dataTable, element);\n",
              "        const docLink = document.createElement('div');\n",
              "        docLink.innerHTML = docLinkHtml;\n",
              "        element.appendChild(docLink);\n",
              "      }\n",
              "    </script>\n",
              "  </div>\n",
              "\n",
              "\n",
              "<div id=\"df-00eb0071-2227-4ab2-b241-467bb89ed230\">\n",
              "  <button class=\"colab-df-quickchart\" onclick=\"quickchart('df-00eb0071-2227-4ab2-b241-467bb89ed230')\"\n",
              "            title=\"Suggest charts.\"\n",
              "            style=\"display:none;\">\n",
              "\n",
              "<svg xmlns=\"http://www.w3.org/2000/svg\" height=\"24px\"viewBox=\"0 0 24 24\"\n",
              "     width=\"24px\">\n",
              "    <g>\n",
              "        <path d=\"M19 3H5c-1.1 0-2 .9-2 2v14c0 1.1.9 2 2 2h14c1.1 0 2-.9 2-2V5c0-1.1-.9-2-2-2zM9 17H7v-7h2v7zm4 0h-2V7h2v10zm4 0h-2v-4h2v4z\"/>\n",
              "    </g>\n",
              "</svg>\n",
              "  </button>\n",
              "\n",
              "<style>\n",
              "  .colab-df-quickchart {\n",
              "      --bg-color: #E8F0FE;\n",
              "      --fill-color: #1967D2;\n",
              "      --hover-bg-color: #E2EBFA;\n",
              "      --hover-fill-color: #174EA6;\n",
              "      --disabled-fill-color: #AAA;\n",
              "      --disabled-bg-color: #DDD;\n",
              "  }\n",
              "\n",
              "  [theme=dark] .colab-df-quickchart {\n",
              "      --bg-color: #3B4455;\n",
              "      --fill-color: #D2E3FC;\n",
              "      --hover-bg-color: #434B5C;\n",
              "      --hover-fill-color: #FFFFFF;\n",
              "      --disabled-bg-color: #3B4455;\n",
              "      --disabled-fill-color: #666;\n",
              "  }\n",
              "\n",
              "  .colab-df-quickchart {\n",
              "    background-color: var(--bg-color);\n",
              "    border: none;\n",
              "    border-radius: 50%;\n",
              "    cursor: pointer;\n",
              "    display: none;\n",
              "    fill: var(--fill-color);\n",
              "    height: 32px;\n",
              "    padding: 0;\n",
              "    width: 32px;\n",
              "  }\n",
              "\n",
              "  .colab-df-quickchart:hover {\n",
              "    background-color: var(--hover-bg-color);\n",
              "    box-shadow: 0 1px 2px rgba(60, 64, 67, 0.3), 0 1px 3px 1px rgba(60, 64, 67, 0.15);\n",
              "    fill: var(--button-hover-fill-color);\n",
              "  }\n",
              "\n",
              "  .colab-df-quickchart-complete:disabled,\n",
              "  .colab-df-quickchart-complete:disabled:hover {\n",
              "    background-color: var(--disabled-bg-color);\n",
              "    fill: var(--disabled-fill-color);\n",
              "    box-shadow: none;\n",
              "  }\n",
              "\n",
              "  .colab-df-spinner {\n",
              "    border: 2px solid var(--fill-color);\n",
              "    border-color: transparent;\n",
              "    border-bottom-color: var(--fill-color);\n",
              "    animation:\n",
              "      spin 1s steps(1) infinite;\n",
              "  }\n",
              "\n",
              "  @keyframes spin {\n",
              "    0% {\n",
              "      border-color: transparent;\n",
              "      border-bottom-color: var(--fill-color);\n",
              "      border-left-color: var(--fill-color);\n",
              "    }\n",
              "    20% {\n",
              "      border-color: transparent;\n",
              "      border-left-color: var(--fill-color);\n",
              "      border-top-color: var(--fill-color);\n",
              "    }\n",
              "    30% {\n",
              "      border-color: transparent;\n",
              "      border-left-color: var(--fill-color);\n",
              "      border-top-color: var(--fill-color);\n",
              "      border-right-color: var(--fill-color);\n",
              "    }\n",
              "    40% {\n",
              "      border-color: transparent;\n",
              "      border-right-color: var(--fill-color);\n",
              "      border-top-color: var(--fill-color);\n",
              "    }\n",
              "    60% {\n",
              "      border-color: transparent;\n",
              "      border-right-color: var(--fill-color);\n",
              "    }\n",
              "    80% {\n",
              "      border-color: transparent;\n",
              "      border-right-color: var(--fill-color);\n",
              "      border-bottom-color: var(--fill-color);\n",
              "    }\n",
              "    90% {\n",
              "      border-color: transparent;\n",
              "      border-bottom-color: var(--fill-color);\n",
              "    }\n",
              "  }\n",
              "</style>\n",
              "\n",
              "  <script>\n",
              "    async function quickchart(key) {\n",
              "      const quickchartButtonEl =\n",
              "        document.querySelector('#' + key + ' button');\n",
              "      quickchartButtonEl.disabled = true;  // To prevent multiple clicks.\n",
              "      quickchartButtonEl.classList.add('colab-df-spinner');\n",
              "      try {\n",
              "        const charts = await google.colab.kernel.invokeFunction(\n",
              "            'suggestCharts', [key], {});\n",
              "      } catch (error) {\n",
              "        console.error('Error during call to suggestCharts:', error);\n",
              "      }\n",
              "      quickchartButtonEl.classList.remove('colab-df-spinner');\n",
              "      quickchartButtonEl.classList.add('colab-df-quickchart-complete');\n",
              "    }\n",
              "    (() => {\n",
              "      let quickchartButtonEl =\n",
              "        document.querySelector('#df-00eb0071-2227-4ab2-b241-467bb89ed230 button');\n",
              "      quickchartButtonEl.style.display =\n",
              "        google.colab.kernel.accessAllowed ? 'block' : 'none';\n",
              "    })();\n",
              "  </script>\n",
              "</div>\n",
              "    </div>\n",
              "  </div>\n"
            ]
          },
          "metadata": {},
          "execution_count": 45
        }
      ]
    },
    {
      "cell_type": "code",
      "source": [
        "queries_df = queries_df.astype({'query_id': 'int64'})\n",
        "queries_df = queries_df.astype({'ground_truth': 'int64'})\n",
        "queries_df = queries_df.astype({'tweet_id': 'int64'})\n",
        "queries_df.head()"
      ],
      "metadata": {
        "colab": {
          "base_uri": "https://localhost:8080/",
          "height": 206
        },
        "id": "PvVyRJ3ZCLj_",
        "outputId": "000de37e-11e7-4716-b7bd-d22c924fddf6"
      },
      "execution_count": 46,
      "outputs": [
        {
          "output_type": "execute_result",
          "data": {
            "text/plain": [
              "               tweet_id  query_id     score  ground_truth\n",
              "0   1575528927245770752         1  4.698085             1\n",
              "1   1575448045457707008         1  3.713707             1\n",
              "6   1575435463682363392         1  3.266190             1\n",
              "10  1575753840233701376         1  2.870063             0\n",
              "3   1575834054905462784         1  2.164526             1"
            ],
            "text/html": [
              "\n",
              "  <div id=\"df-49b403f7-f101-45df-b549-9c9019b4ae68\" class=\"colab-df-container\">\n",
              "    <div>\n",
              "<style scoped>\n",
              "    .dataframe tbody tr th:only-of-type {\n",
              "        vertical-align: middle;\n",
              "    }\n",
              "\n",
              "    .dataframe tbody tr th {\n",
              "        vertical-align: top;\n",
              "    }\n",
              "\n",
              "    .dataframe thead th {\n",
              "        text-align: right;\n",
              "    }\n",
              "</style>\n",
              "<table border=\"1\" class=\"dataframe\">\n",
              "  <thead>\n",
              "    <tr style=\"text-align: right;\">\n",
              "      <th></th>\n",
              "      <th>tweet_id</th>\n",
              "      <th>query_id</th>\n",
              "      <th>score</th>\n",
              "      <th>ground_truth</th>\n",
              "    </tr>\n",
              "  </thead>\n",
              "  <tbody>\n",
              "    <tr>\n",
              "      <th>0</th>\n",
              "      <td>1575528927245770752</td>\n",
              "      <td>1</td>\n",
              "      <td>4.698085</td>\n",
              "      <td>1</td>\n",
              "    </tr>\n",
              "    <tr>\n",
              "      <th>1</th>\n",
              "      <td>1575448045457707008</td>\n",
              "      <td>1</td>\n",
              "      <td>3.713707</td>\n",
              "      <td>1</td>\n",
              "    </tr>\n",
              "    <tr>\n",
              "      <th>6</th>\n",
              "      <td>1575435463682363392</td>\n",
              "      <td>1</td>\n",
              "      <td>3.266190</td>\n",
              "      <td>1</td>\n",
              "    </tr>\n",
              "    <tr>\n",
              "      <th>10</th>\n",
              "      <td>1575753840233701376</td>\n",
              "      <td>1</td>\n",
              "      <td>2.870063</td>\n",
              "      <td>0</td>\n",
              "    </tr>\n",
              "    <tr>\n",
              "      <th>3</th>\n",
              "      <td>1575834054905462784</td>\n",
              "      <td>1</td>\n",
              "      <td>2.164526</td>\n",
              "      <td>1</td>\n",
              "    </tr>\n",
              "  </tbody>\n",
              "</table>\n",
              "</div>\n",
              "    <div class=\"colab-df-buttons\">\n",
              "\n",
              "  <div class=\"colab-df-container\">\n",
              "    <button class=\"colab-df-convert\" onclick=\"convertToInteractive('df-49b403f7-f101-45df-b549-9c9019b4ae68')\"\n",
              "            title=\"Convert this dataframe to an interactive table.\"\n",
              "            style=\"display:none;\">\n",
              "\n",
              "  <svg xmlns=\"http://www.w3.org/2000/svg\" height=\"24px\" viewBox=\"0 -960 960 960\">\n",
              "    <path d=\"M120-120v-720h720v720H120Zm60-500h600v-160H180v160Zm220 220h160v-160H400v160Zm0 220h160v-160H400v160ZM180-400h160v-160H180v160Zm440 0h160v-160H620v160ZM180-180h160v-160H180v160Zm440 0h160v-160H620v160Z\"/>\n",
              "  </svg>\n",
              "    </button>\n",
              "\n",
              "  <style>\n",
              "    .colab-df-container {\n",
              "      display:flex;\n",
              "      gap: 12px;\n",
              "    }\n",
              "\n",
              "    .colab-df-convert {\n",
              "      background-color: #E8F0FE;\n",
              "      border: none;\n",
              "      border-radius: 50%;\n",
              "      cursor: pointer;\n",
              "      display: none;\n",
              "      fill: #1967D2;\n",
              "      height: 32px;\n",
              "      padding: 0 0 0 0;\n",
              "      width: 32px;\n",
              "    }\n",
              "\n",
              "    .colab-df-convert:hover {\n",
              "      background-color: #E2EBFA;\n",
              "      box-shadow: 0px 1px 2px rgba(60, 64, 67, 0.3), 0px 1px 3px 1px rgba(60, 64, 67, 0.15);\n",
              "      fill: #174EA6;\n",
              "    }\n",
              "\n",
              "    .colab-df-buttons div {\n",
              "      margin-bottom: 4px;\n",
              "    }\n",
              "\n",
              "    [theme=dark] .colab-df-convert {\n",
              "      background-color: #3B4455;\n",
              "      fill: #D2E3FC;\n",
              "    }\n",
              "\n",
              "    [theme=dark] .colab-df-convert:hover {\n",
              "      background-color: #434B5C;\n",
              "      box-shadow: 0px 1px 3px 1px rgba(0, 0, 0, 0.15);\n",
              "      filter: drop-shadow(0px 1px 2px rgba(0, 0, 0, 0.3));\n",
              "      fill: #FFFFFF;\n",
              "    }\n",
              "  </style>\n",
              "\n",
              "    <script>\n",
              "      const buttonEl =\n",
              "        document.querySelector('#df-49b403f7-f101-45df-b549-9c9019b4ae68 button.colab-df-convert');\n",
              "      buttonEl.style.display =\n",
              "        google.colab.kernel.accessAllowed ? 'block' : 'none';\n",
              "\n",
              "      async function convertToInteractive(key) {\n",
              "        const element = document.querySelector('#df-49b403f7-f101-45df-b549-9c9019b4ae68');\n",
              "        const dataTable =\n",
              "          await google.colab.kernel.invokeFunction('convertToInteractive',\n",
              "                                                    [key], {});\n",
              "        if (!dataTable) return;\n",
              "\n",
              "        const docLinkHtml = 'Like what you see? Visit the ' +\n",
              "          '<a target=\"_blank\" href=https://colab.research.google.com/notebooks/data_table.ipynb>data table notebook</a>'\n",
              "          + ' to learn more about interactive tables.';\n",
              "        element.innerHTML = '';\n",
              "        dataTable['output_type'] = 'display_data';\n",
              "        await google.colab.output.renderOutput(dataTable, element);\n",
              "        const docLink = document.createElement('div');\n",
              "        docLink.innerHTML = docLinkHtml;\n",
              "        element.appendChild(docLink);\n",
              "      }\n",
              "    </script>\n",
              "  </div>\n",
              "\n",
              "\n",
              "<div id=\"df-23b77fba-3943-4c01-b414-1259a695db1c\">\n",
              "  <button class=\"colab-df-quickchart\" onclick=\"quickchart('df-23b77fba-3943-4c01-b414-1259a695db1c')\"\n",
              "            title=\"Suggest charts.\"\n",
              "            style=\"display:none;\">\n",
              "\n",
              "<svg xmlns=\"http://www.w3.org/2000/svg\" height=\"24px\"viewBox=\"0 0 24 24\"\n",
              "     width=\"24px\">\n",
              "    <g>\n",
              "        <path d=\"M19 3H5c-1.1 0-2 .9-2 2v14c0 1.1.9 2 2 2h14c1.1 0 2-.9 2-2V5c0-1.1-.9-2-2-2zM9 17H7v-7h2v7zm4 0h-2V7h2v10zm4 0h-2v-4h2v4z\"/>\n",
              "    </g>\n",
              "</svg>\n",
              "  </button>\n",
              "\n",
              "<style>\n",
              "  .colab-df-quickchart {\n",
              "      --bg-color: #E8F0FE;\n",
              "      --fill-color: #1967D2;\n",
              "      --hover-bg-color: #E2EBFA;\n",
              "      --hover-fill-color: #174EA6;\n",
              "      --disabled-fill-color: #AAA;\n",
              "      --disabled-bg-color: #DDD;\n",
              "  }\n",
              "\n",
              "  [theme=dark] .colab-df-quickchart {\n",
              "      --bg-color: #3B4455;\n",
              "      --fill-color: #D2E3FC;\n",
              "      --hover-bg-color: #434B5C;\n",
              "      --hover-fill-color: #FFFFFF;\n",
              "      --disabled-bg-color: #3B4455;\n",
              "      --disabled-fill-color: #666;\n",
              "  }\n",
              "\n",
              "  .colab-df-quickchart {\n",
              "    background-color: var(--bg-color);\n",
              "    border: none;\n",
              "    border-radius: 50%;\n",
              "    cursor: pointer;\n",
              "    display: none;\n",
              "    fill: var(--fill-color);\n",
              "    height: 32px;\n",
              "    padding: 0;\n",
              "    width: 32px;\n",
              "  }\n",
              "\n",
              "  .colab-df-quickchart:hover {\n",
              "    background-color: var(--hover-bg-color);\n",
              "    box-shadow: 0 1px 2px rgba(60, 64, 67, 0.3), 0 1px 3px 1px rgba(60, 64, 67, 0.15);\n",
              "    fill: var(--button-hover-fill-color);\n",
              "  }\n",
              "\n",
              "  .colab-df-quickchart-complete:disabled,\n",
              "  .colab-df-quickchart-complete:disabled:hover {\n",
              "    background-color: var(--disabled-bg-color);\n",
              "    fill: var(--disabled-fill-color);\n",
              "    box-shadow: none;\n",
              "  }\n",
              "\n",
              "  .colab-df-spinner {\n",
              "    border: 2px solid var(--fill-color);\n",
              "    border-color: transparent;\n",
              "    border-bottom-color: var(--fill-color);\n",
              "    animation:\n",
              "      spin 1s steps(1) infinite;\n",
              "  }\n",
              "\n",
              "  @keyframes spin {\n",
              "    0% {\n",
              "      border-color: transparent;\n",
              "      border-bottom-color: var(--fill-color);\n",
              "      border-left-color: var(--fill-color);\n",
              "    }\n",
              "    20% {\n",
              "      border-color: transparent;\n",
              "      border-left-color: var(--fill-color);\n",
              "      border-top-color: var(--fill-color);\n",
              "    }\n",
              "    30% {\n",
              "      border-color: transparent;\n",
              "      border-left-color: var(--fill-color);\n",
              "      border-top-color: var(--fill-color);\n",
              "      border-right-color: var(--fill-color);\n",
              "    }\n",
              "    40% {\n",
              "      border-color: transparent;\n",
              "      border-right-color: var(--fill-color);\n",
              "      border-top-color: var(--fill-color);\n",
              "    }\n",
              "    60% {\n",
              "      border-color: transparent;\n",
              "      border-right-color: var(--fill-color);\n",
              "    }\n",
              "    80% {\n",
              "      border-color: transparent;\n",
              "      border-right-color: var(--fill-color);\n",
              "      border-bottom-color: var(--fill-color);\n",
              "    }\n",
              "    90% {\n",
              "      border-color: transparent;\n",
              "      border-bottom-color: var(--fill-color);\n",
              "    }\n",
              "  }\n",
              "</style>\n",
              "\n",
              "  <script>\n",
              "    async function quickchart(key) {\n",
              "      const quickchartButtonEl =\n",
              "        document.querySelector('#' + key + ' button');\n",
              "      quickchartButtonEl.disabled = true;  // To prevent multiple clicks.\n",
              "      quickchartButtonEl.classList.add('colab-df-spinner');\n",
              "      try {\n",
              "        const charts = await google.colab.kernel.invokeFunction(\n",
              "            'suggestCharts', [key], {});\n",
              "      } catch (error) {\n",
              "        console.error('Error during call to suggestCharts:', error);\n",
              "      }\n",
              "      quickchartButtonEl.classList.remove('colab-df-spinner');\n",
              "      quickchartButtonEl.classList.add('colab-df-quickchart-complete');\n",
              "    }\n",
              "    (() => {\n",
              "      let quickchartButtonEl =\n",
              "        document.querySelector('#df-23b77fba-3943-4c01-b414-1259a695db1c button');\n",
              "      quickchartButtonEl.style.display =\n",
              "        google.colab.kernel.accessAllowed ? 'block' : 'none';\n",
              "    })();\n",
              "  </script>\n",
              "</div>\n",
              "    </div>\n",
              "  </div>\n"
            ]
          },
          "metadata": {},
          "execution_count": 46
        }
      ]
    },
    {
      "cell_type": "code",
      "source": [
        "k = [4, 8, 12, 16, 20]\n",
        "for k_j in k:\n",
        "  for i in range(len(queries)):\n",
        "    result = queries_df[queries_df[\"query_id\"] == i+1]\n",
        "    print(\"Query{} -  Precision@{}: {}\".format(i+1, k_j, precision_at_k(result[\"ground_truth\"], result[\"score\"], k_j)))"
      ],
      "metadata": {
        "colab": {
          "base_uri": "https://localhost:8080/"
        },
        "id": "hfwZmrFtgrG6",
        "outputId": "0caba617-e749-4f40-b2a5-659278ce0f8b"
      },
      "execution_count": 47,
      "outputs": [
        {
          "output_type": "stream",
          "name": "stdout",
          "text": [
            "Query1 -  Precision@4: 0.75\n",
            "Query2 -  Precision@4: 1.0\n",
            "Query3 -  Precision@4: 1.0\n",
            "Query1 -  Precision@8: 0.875\n",
            "Query2 -  Precision@8: 1.0\n",
            "Query3 -  Precision@8: 1.0\n",
            "Query1 -  Precision@12: 0.75\n",
            "Query2 -  Precision@12: 0.8333333333333334\n",
            "Query3 -  Precision@12: 0.8333333333333334\n",
            "Query1 -  Precision@16: 0.625\n",
            "Query2 -  Precision@16: 0.625\n",
            "Query3 -  Precision@16: 0.625\n",
            "Query1 -  Precision@20: 0.5\n",
            "Query2 -  Precision@20: 0.5\n",
            "Query3 -  Precision@20: 0.5\n"
          ]
        }
      ]
    },
    {
      "cell_type": "code",
      "source": [
        "k = [4, 8, 12, 16, 20]\n",
        "for k_j in k:\n",
        "  for i in range(len(queries)):\n",
        "    result = queries_df[queries_df[\"query_id\"] == i+1]\n",
        "    print(\"Query{} -  Recall@{}: {}\".format(i+1, k_j, recall_at_k(result[\"ground_truth\"], result[\"score\"], k_j)))"
      ],
      "metadata": {
        "colab": {
          "base_uri": "https://localhost:8080/"
        },
        "id": "l95q3tVCnr8j",
        "outputId": "9e725c09-f87e-417d-b92a-5c1f122e1a09"
      },
      "execution_count": 48,
      "outputs": [
        {
          "output_type": "stream",
          "name": "stdout",
          "text": [
            "Query1 -  Recall@4: 0.3\n",
            "Query2 -  Recall@4: 0.4\n",
            "Query3 -  Recall@4: 0.4\n",
            "Query1 -  Recall@8: 0.7\n",
            "Query2 -  Recall@8: 0.8\n",
            "Query3 -  Recall@8: 0.8\n",
            "Query1 -  Recall@12: 0.9\n",
            "Query2 -  Recall@12: 1.0\n",
            "Query3 -  Recall@12: 1.0\n",
            "Query1 -  Recall@16: 1.0\n",
            "Query2 -  Recall@16: 1.0\n",
            "Query3 -  Recall@16: 1.0\n",
            "Query1 -  Recall@20: 1.0\n",
            "Query2 -  Recall@20: 1.0\n",
            "Query3 -  Recall@20: 1.0\n"
          ]
        }
      ]
    },
    {
      "cell_type": "code",
      "source": [
        "k = 20\n",
        "for i in range(len(queries)):\n",
        "  result = queries_df[queries_df[\"query_id\"] == i+1]\n",
        "  print(\"Query{} -  Average Precision@{}: {}\".format(i+1, k, avg_precision_at_k(np.array(result[\"ground_truth\"]), np.array(result[\"score\"]), k)))"
      ],
      "metadata": {
        "colab": {
          "base_uri": "https://localhost:8080/"
        },
        "id": "vbvoPNWOj7Vc",
        "outputId": "ff4cbe95-2cee-426d-8b08-c196141dc158"
      },
      "execution_count": 49,
      "outputs": [
        {
          "output_type": "stream",
          "name": "stdout",
          "text": [
            "Query1 -  Average Precision@20: 0.8684706959706959\n",
            "Query2 -  Average Precision@20: 1.0\n",
            "Query3 -  Average Precision@20: 1.0\n"
          ]
        }
      ]
    },
    {
      "cell_type": "code",
      "source": [
        "from sklearn.metrics import average_precision_score\n",
        "k = 20\n",
        "for i in range(len(queries)):\n",
        "  result = queries_df[queries_df[\"query_id\"] == i+1]\n",
        "  print(\"Query{} -  Average Precision@{} (python function): {}\".format(i+1, k, average_precision_score(np.array(result[\"ground_truth\"]), np.array(result[\"score\"][:k])), k))"
      ],
      "metadata": {
        "colab": {
          "base_uri": "https://localhost:8080/"
        },
        "id": "eVmdZOlzkOI5",
        "outputId": "28b33b8f-c915-446a-fcc3-89fd74b430d5"
      },
      "execution_count": 50,
      "outputs": [
        {
          "output_type": "stream",
          "name": "stdout",
          "text": [
            "Query1 -  Average Precision@20 (python function): 0.8708516483516483\n",
            "Query2 -  Average Precision@20 (python function): 0.9999999999999999\n",
            "Query3 -  Average Precision@20 (python function): 1.0\n"
          ]
        }
      ]
    },
    {
      "cell_type": "code",
      "source": [
        "k = [4, 8, 12, 16, 20]\n",
        "for k_j in k:\n",
        "  for i in range(len(queries)):\n",
        "    result = queries_df[queries_df[\"query_id\"] == i+1]\n",
        "    print(\"Query{} -  F1-Score@{}: {}\".format(i+1, k_j, f1_score_at_k(np.array(result[\"ground_truth\"]), np.array(result[\"score\"]), k_j)))"
      ],
      "metadata": {
        "colab": {
          "base_uri": "https://localhost:8080/"
        },
        "id": "SDHqU8RhxDw3",
        "outputId": "54581632-f44c-4982-c2a9-f2868db39455"
      },
      "execution_count": 51,
      "outputs": [
        {
          "output_type": "stream",
          "name": "stdout",
          "text": [
            "Query1 -  F1-Score@4: 0.4285714285714285\n",
            "Query2 -  F1-Score@4: 0.5714285714285715\n",
            "Query3 -  F1-Score@4: 0.5714285714285715\n",
            "Query1 -  F1-Score@8: 0.7777777777777777\n",
            "Query2 -  F1-Score@8: 0.888888888888889\n",
            "Query3 -  F1-Score@8: 0.888888888888889\n",
            "Query1 -  F1-Score@12: 0.8181818181818182\n",
            "Query2 -  F1-Score@12: 0.9090909090909091\n",
            "Query3 -  F1-Score@12: 0.9090909090909091\n",
            "Query1 -  F1-Score@16: 0.7692307692307693\n",
            "Query2 -  F1-Score@16: 0.7692307692307693\n",
            "Query3 -  F1-Score@16: 0.7692307692307693\n",
            "Query1 -  F1-Score@20: 0.6666666666666666\n",
            "Query2 -  F1-Score@20: 0.6666666666666666\n",
            "Query3 -  F1-Score@20: 0.6666666666666666\n"
          ]
        }
      ]
    },
    {
      "cell_type": "code",
      "source": [
        "k = [4, 8, 12, 16, 20]\n",
        "for k_j in k:\n",
        "  print(\"MAP@{}: {}\".format(k_j,  map_at_k(queries_df,k_j)))"
      ],
      "metadata": {
        "colab": {
          "base_uri": "https://localhost:8080/"
        },
        "id": "ATafrcZvy4qc",
        "outputId": "e1bf68e0-e268-426e-c39d-d1f2082b23b5"
      },
      "execution_count": 52,
      "outputs": [
        {
          "output_type": "stream",
          "name": "stdout",
          "text": [
            "MAP@4: 0.3666666666666667\n",
            "MAP@8: 0.7455158730158731\n",
            "MAP@12: 0.930515873015873\n",
            "MAP@16: 0.9561568986568987\n",
            "MAP@20: 0.9561568986568987\n"
          ]
        }
      ]
    },
    {
      "cell_type": "code",
      "source": [
        "k = [4, 8, 12, 16, 20]\n",
        "for k_j in k:\n",
        "  print(\"MRR@{}: {}\".format(k_j,  mrr_at_k(queries_df,k_j)))"
      ],
      "metadata": {
        "colab": {
          "base_uri": "https://localhost:8080/"
        },
        "id": "EzSZrSWdzTT0",
        "outputId": "4096dd12-f412-4d7f-fc52-aa834da7724d"
      },
      "execution_count": 53,
      "outputs": [
        {
          "output_type": "stream",
          "name": "stdout",
          "text": [
            "MRR@4: 1.0\n",
            "MRR@8: 1.0\n",
            "MRR@12: 1.0\n",
            "MRR@16: 1.0\n",
            "MRR@20: 1.0\n"
          ]
        }
      ]
    },
    {
      "cell_type": "code",
      "source": [
        "k = [4, 8, 12, 16, 20]\n",
        "for k_j in k:\n",
        "  for i in range(len(queries)):\n",
        "    result = queries_df[queries_df[\"query_id\"] == i+1]\n",
        "    labels = np.array(result[\"ground_truth\"])\n",
        "    scores = np.array(result[\"score\"])\n",
        "    ndcg_k = np.round(ndcg_at_k(labels, scores, k_j), 4)\n",
        "    print(\"Query{} -  NDCG@{}: {}\".format(i+1, k_j, ndcg_k))"
      ],
      "metadata": {
        "colab": {
          "base_uri": "https://localhost:8080/"
        },
        "id": "foGRsJAKzuhc",
        "outputId": "443a5940-569b-43e8-8cf8-d1aabc9ba490"
      },
      "execution_count": 54,
      "outputs": [
        {
          "output_type": "stream",
          "name": "stdout",
          "text": [
            "Query1 -  NDCG@4: 0.8319\n",
            "Query2 -  NDCG@4: 1.0\n",
            "Query3 -  NDCG@4: 1.0\n",
            "Query1 -  NDCG@8: 0.8911\n",
            "Query2 -  NDCG@8: 1.0\n",
            "Query3 -  NDCG@8: 1.0\n",
            "Query1 -  NDCG@12: 0.8984\n",
            "Query2 -  NDCG@12: 1.0\n",
            "Query3 -  NDCG@12: 1.0\n",
            "Query1 -  NDCG@16: 0.9562\n",
            "Query2 -  NDCG@16: 1.0\n",
            "Query3 -  NDCG@16: 1.0\n",
            "Query1 -  NDCG@20: 0.9562\n",
            "Query2 -  NDCG@20: 1.0\n",
            "Query3 -  NDCG@20: 1.0\n"
          ]
        }
      ]
    },
    {
      "cell_type": "markdown",
      "source": [
        "####[OUR QUERIES]"
      ],
      "metadata": {
        "id": "-uGOEAeN2GOA"
      }
    },
    {
      "cell_type": "code",
      "source": [
        "new_q1 = \"Eastern separatists groups\"\n",
        "new_q2 = \"Humanitarian impact\"\n",
        "new_q3 = \"Media coverage of war\"\n",
        "new_q4 = \"Negotiations in war\"\n",
        "new_q5 = \"Russian propaganda and disinformation\"\n",
        "\n",
        "new_queries = [new_q1,new_q2,new_q3,new_q4,new_q5]\n",
        "new_queries_df = pd.DataFrame(columns = [\"tweet_id\", \"query_id\", \"score\", 'ground_truth'])\n",
        "top = 20\n",
        "\n",
        "for i in range(len(new_queries)):\n",
        "  new_ranked_docs, new_ranked_scores = search_tf_idf(new_queries[i], index2)\n",
        "  for j, tweet_id in enumerate(new_ranked_docs[:top]):\n",
        "        new_queries_df = new_queries_df.append({\"tweet_id\": tweet_id, \"query_id\": str(i+1), \"score\": ranked_scores[j]}, ignore_index=True)\n",
        "\n",
        "# we sort by score, respecting the query_id value\n",
        "new_queries_df = new_queries_df.sort_values(by=['query_id','score'], ascending = [True, False])\n",
        "\n",
        "new_queries_df.head()\n"
      ],
      "metadata": {
        "colab": {
          "base_uri": "https://localhost:8080/",
          "height": 206
        },
        "id": "2z-06F_i0EtD",
        "outputId": "cc001fe8-f198-4646-a98e-90be441a40fa"
      },
      "execution_count": 55,
      "outputs": [
        {
          "output_type": "execute_result",
          "data": {
            "text/plain": [
              "              tweet_id query_id     score ground_truth\n",
              "0  1575842840768569344        1  3.282387          NaN\n",
              "1  1575818569857658880        1  3.129791          NaN\n",
              "2  1575821202064834560        1  2.879615          NaN\n",
              "3  1575820237010006017        1  2.879615          NaN\n",
              "4  1575180675002486785        1  2.725980          NaN"
            ],
            "text/html": [
              "\n",
              "  <div id=\"df-6013489a-1461-4e59-99a3-dbf7cf54e436\" class=\"colab-df-container\">\n",
              "    <div>\n",
              "<style scoped>\n",
              "    .dataframe tbody tr th:only-of-type {\n",
              "        vertical-align: middle;\n",
              "    }\n",
              "\n",
              "    .dataframe tbody tr th {\n",
              "        vertical-align: top;\n",
              "    }\n",
              "\n",
              "    .dataframe thead th {\n",
              "        text-align: right;\n",
              "    }\n",
              "</style>\n",
              "<table border=\"1\" class=\"dataframe\">\n",
              "  <thead>\n",
              "    <tr style=\"text-align: right;\">\n",
              "      <th></th>\n",
              "      <th>tweet_id</th>\n",
              "      <th>query_id</th>\n",
              "      <th>score</th>\n",
              "      <th>ground_truth</th>\n",
              "    </tr>\n",
              "  </thead>\n",
              "  <tbody>\n",
              "    <tr>\n",
              "      <th>0</th>\n",
              "      <td>1575842840768569344</td>\n",
              "      <td>1</td>\n",
              "      <td>3.282387</td>\n",
              "      <td>NaN</td>\n",
              "    </tr>\n",
              "    <tr>\n",
              "      <th>1</th>\n",
              "      <td>1575818569857658880</td>\n",
              "      <td>1</td>\n",
              "      <td>3.129791</td>\n",
              "      <td>NaN</td>\n",
              "    </tr>\n",
              "    <tr>\n",
              "      <th>2</th>\n",
              "      <td>1575821202064834560</td>\n",
              "      <td>1</td>\n",
              "      <td>2.879615</td>\n",
              "      <td>NaN</td>\n",
              "    </tr>\n",
              "    <tr>\n",
              "      <th>3</th>\n",
              "      <td>1575820237010006017</td>\n",
              "      <td>1</td>\n",
              "      <td>2.879615</td>\n",
              "      <td>NaN</td>\n",
              "    </tr>\n",
              "    <tr>\n",
              "      <th>4</th>\n",
              "      <td>1575180675002486785</td>\n",
              "      <td>1</td>\n",
              "      <td>2.725980</td>\n",
              "      <td>NaN</td>\n",
              "    </tr>\n",
              "  </tbody>\n",
              "</table>\n",
              "</div>\n",
              "    <div class=\"colab-df-buttons\">\n",
              "\n",
              "  <div class=\"colab-df-container\">\n",
              "    <button class=\"colab-df-convert\" onclick=\"convertToInteractive('df-6013489a-1461-4e59-99a3-dbf7cf54e436')\"\n",
              "            title=\"Convert this dataframe to an interactive table.\"\n",
              "            style=\"display:none;\">\n",
              "\n",
              "  <svg xmlns=\"http://www.w3.org/2000/svg\" height=\"24px\" viewBox=\"0 -960 960 960\">\n",
              "    <path d=\"M120-120v-720h720v720H120Zm60-500h600v-160H180v160Zm220 220h160v-160H400v160Zm0 220h160v-160H400v160ZM180-400h160v-160H180v160Zm440 0h160v-160H620v160ZM180-180h160v-160H180v160Zm440 0h160v-160H620v160Z\"/>\n",
              "  </svg>\n",
              "    </button>\n",
              "\n",
              "  <style>\n",
              "    .colab-df-container {\n",
              "      display:flex;\n",
              "      gap: 12px;\n",
              "    }\n",
              "\n",
              "    .colab-df-convert {\n",
              "      background-color: #E8F0FE;\n",
              "      border: none;\n",
              "      border-radius: 50%;\n",
              "      cursor: pointer;\n",
              "      display: none;\n",
              "      fill: #1967D2;\n",
              "      height: 32px;\n",
              "      padding: 0 0 0 0;\n",
              "      width: 32px;\n",
              "    }\n",
              "\n",
              "    .colab-df-convert:hover {\n",
              "      background-color: #E2EBFA;\n",
              "      box-shadow: 0px 1px 2px rgba(60, 64, 67, 0.3), 0px 1px 3px 1px rgba(60, 64, 67, 0.15);\n",
              "      fill: #174EA6;\n",
              "    }\n",
              "\n",
              "    .colab-df-buttons div {\n",
              "      margin-bottom: 4px;\n",
              "    }\n",
              "\n",
              "    [theme=dark] .colab-df-convert {\n",
              "      background-color: #3B4455;\n",
              "      fill: #D2E3FC;\n",
              "    }\n",
              "\n",
              "    [theme=dark] .colab-df-convert:hover {\n",
              "      background-color: #434B5C;\n",
              "      box-shadow: 0px 1px 3px 1px rgba(0, 0, 0, 0.15);\n",
              "      filter: drop-shadow(0px 1px 2px rgba(0, 0, 0, 0.3));\n",
              "      fill: #FFFFFF;\n",
              "    }\n",
              "  </style>\n",
              "\n",
              "    <script>\n",
              "      const buttonEl =\n",
              "        document.querySelector('#df-6013489a-1461-4e59-99a3-dbf7cf54e436 button.colab-df-convert');\n",
              "      buttonEl.style.display =\n",
              "        google.colab.kernel.accessAllowed ? 'block' : 'none';\n",
              "\n",
              "      async function convertToInteractive(key) {\n",
              "        const element = document.querySelector('#df-6013489a-1461-4e59-99a3-dbf7cf54e436');\n",
              "        const dataTable =\n",
              "          await google.colab.kernel.invokeFunction('convertToInteractive',\n",
              "                                                    [key], {});\n",
              "        if (!dataTable) return;\n",
              "\n",
              "        const docLinkHtml = 'Like what you see? Visit the ' +\n",
              "          '<a target=\"_blank\" href=https://colab.research.google.com/notebooks/data_table.ipynb>data table notebook</a>'\n",
              "          + ' to learn more about interactive tables.';\n",
              "        element.innerHTML = '';\n",
              "        dataTable['output_type'] = 'display_data';\n",
              "        await google.colab.output.renderOutput(dataTable, element);\n",
              "        const docLink = document.createElement('div');\n",
              "        docLink.innerHTML = docLinkHtml;\n",
              "        element.appendChild(docLink);\n",
              "      }\n",
              "    </script>\n",
              "  </div>\n",
              "\n",
              "\n",
              "<div id=\"df-d6d407f8-7624-48a2-a136-30c5de0c4bc7\">\n",
              "  <button class=\"colab-df-quickchart\" onclick=\"quickchart('df-d6d407f8-7624-48a2-a136-30c5de0c4bc7')\"\n",
              "            title=\"Suggest charts.\"\n",
              "            style=\"display:none;\">\n",
              "\n",
              "<svg xmlns=\"http://www.w3.org/2000/svg\" height=\"24px\"viewBox=\"0 0 24 24\"\n",
              "     width=\"24px\">\n",
              "    <g>\n",
              "        <path d=\"M19 3H5c-1.1 0-2 .9-2 2v14c0 1.1.9 2 2 2h14c1.1 0 2-.9 2-2V5c0-1.1-.9-2-2-2zM9 17H7v-7h2v7zm4 0h-2V7h2v10zm4 0h-2v-4h2v4z\"/>\n",
              "    </g>\n",
              "</svg>\n",
              "  </button>\n",
              "\n",
              "<style>\n",
              "  .colab-df-quickchart {\n",
              "      --bg-color: #E8F0FE;\n",
              "      --fill-color: #1967D2;\n",
              "      --hover-bg-color: #E2EBFA;\n",
              "      --hover-fill-color: #174EA6;\n",
              "      --disabled-fill-color: #AAA;\n",
              "      --disabled-bg-color: #DDD;\n",
              "  }\n",
              "\n",
              "  [theme=dark] .colab-df-quickchart {\n",
              "      --bg-color: #3B4455;\n",
              "      --fill-color: #D2E3FC;\n",
              "      --hover-bg-color: #434B5C;\n",
              "      --hover-fill-color: #FFFFFF;\n",
              "      --disabled-bg-color: #3B4455;\n",
              "      --disabled-fill-color: #666;\n",
              "  }\n",
              "\n",
              "  .colab-df-quickchart {\n",
              "    background-color: var(--bg-color);\n",
              "    border: none;\n",
              "    border-radius: 50%;\n",
              "    cursor: pointer;\n",
              "    display: none;\n",
              "    fill: var(--fill-color);\n",
              "    height: 32px;\n",
              "    padding: 0;\n",
              "    width: 32px;\n",
              "  }\n",
              "\n",
              "  .colab-df-quickchart:hover {\n",
              "    background-color: var(--hover-bg-color);\n",
              "    box-shadow: 0 1px 2px rgba(60, 64, 67, 0.3), 0 1px 3px 1px rgba(60, 64, 67, 0.15);\n",
              "    fill: var(--button-hover-fill-color);\n",
              "  }\n",
              "\n",
              "  .colab-df-quickchart-complete:disabled,\n",
              "  .colab-df-quickchart-complete:disabled:hover {\n",
              "    background-color: var(--disabled-bg-color);\n",
              "    fill: var(--disabled-fill-color);\n",
              "    box-shadow: none;\n",
              "  }\n",
              "\n",
              "  .colab-df-spinner {\n",
              "    border: 2px solid var(--fill-color);\n",
              "    border-color: transparent;\n",
              "    border-bottom-color: var(--fill-color);\n",
              "    animation:\n",
              "      spin 1s steps(1) infinite;\n",
              "  }\n",
              "\n",
              "  @keyframes spin {\n",
              "    0% {\n",
              "      border-color: transparent;\n",
              "      border-bottom-color: var(--fill-color);\n",
              "      border-left-color: var(--fill-color);\n",
              "    }\n",
              "    20% {\n",
              "      border-color: transparent;\n",
              "      border-left-color: var(--fill-color);\n",
              "      border-top-color: var(--fill-color);\n",
              "    }\n",
              "    30% {\n",
              "      border-color: transparent;\n",
              "      border-left-color: var(--fill-color);\n",
              "      border-top-color: var(--fill-color);\n",
              "      border-right-color: var(--fill-color);\n",
              "    }\n",
              "    40% {\n",
              "      border-color: transparent;\n",
              "      border-right-color: var(--fill-color);\n",
              "      border-top-color: var(--fill-color);\n",
              "    }\n",
              "    60% {\n",
              "      border-color: transparent;\n",
              "      border-right-color: var(--fill-color);\n",
              "    }\n",
              "    80% {\n",
              "      border-color: transparent;\n",
              "      border-right-color: var(--fill-color);\n",
              "      border-bottom-color: var(--fill-color);\n",
              "    }\n",
              "    90% {\n",
              "      border-color: transparent;\n",
              "      border-bottom-color: var(--fill-color);\n",
              "    }\n",
              "  }\n",
              "</style>\n",
              "\n",
              "  <script>\n",
              "    async function quickchart(key) {\n",
              "      const quickchartButtonEl =\n",
              "        document.querySelector('#' + key + ' button');\n",
              "      quickchartButtonEl.disabled = true;  // To prevent multiple clicks.\n",
              "      quickchartButtonEl.classList.add('colab-df-spinner');\n",
              "      try {\n",
              "        const charts = await google.colab.kernel.invokeFunction(\n",
              "            'suggestCharts', [key], {});\n",
              "      } catch (error) {\n",
              "        console.error('Error during call to suggestCharts:', error);\n",
              "      }\n",
              "      quickchartButtonEl.classList.remove('colab-df-spinner');\n",
              "      quickchartButtonEl.classList.add('colab-df-quickchart-complete');\n",
              "    }\n",
              "    (() => {\n",
              "      let quickchartButtonEl =\n",
              "        document.querySelector('#df-d6d407f8-7624-48a2-a136-30c5de0c4bc7 button');\n",
              "      quickchartButtonEl.style.display =\n",
              "        google.colab.kernel.accessAllowed ? 'block' : 'none';\n",
              "    })();\n",
              "  </script>\n",
              "</div>\n",
              "    </div>\n",
              "  </div>\n"
            ]
          },
          "metadata": {},
          "execution_count": 55
        }
      ]
    },
    {
      "cell_type": "code",
      "source": [
        "new_ground_truth = [1, 1, 1, 1, 0, 1, 1, 0, 0, 0,\n",
        "                    0, 0, 0, 0, 1, 0, 0, 1, 1, 1,\n",
        "\n",
        "                    1, 0, 0, 1, 1, 1, 0, 1, 1, 1,\n",
        "                    0, 1, 1, 0, 0, 0, 1, 0, 0, 0,\n",
        "\n",
        "                    0, 0, 1, 1, 1, 0, 1, 1, 1, 1,\n",
        "                    1, 1, 0, 0, 0, 1, 0, 0, 0, 0,\n",
        "\n",
        "                    0, 1, 0, 1, 1, 1, 0, 0, 1, 1,\n",
        "                    1, 0, 1, 0, 0, 0, 1, 1, 0, 0,\n",
        "\n",
        "                    1, 0, 1, 1, 0, 1, 0, 1, 0, 0,\n",
        "                    0, 1, 0, 0, 1, 0, 1, 0, 1, 1]\n",
        "\n",
        "new_queries_df['ground_truth'] = new_ground_truth\n",
        "new_queries_df.head()"
      ],
      "metadata": {
        "colab": {
          "base_uri": "https://localhost:8080/",
          "height": 206
        },
        "id": "k11_325Beb4v",
        "outputId": "dea144c4-8ce6-4c59-9f21-965d24f57447"
      },
      "execution_count": 56,
      "outputs": [
        {
          "output_type": "execute_result",
          "data": {
            "text/plain": [
              "              tweet_id query_id     score  ground_truth\n",
              "0  1575842840768569344        1  3.282387             1\n",
              "1  1575818569857658880        1  3.129791             1\n",
              "2  1575821202064834560        1  2.879615             1\n",
              "3  1575820237010006017        1  2.879615             1\n",
              "4  1575180675002486785        1  2.725980             0"
            ],
            "text/html": [
              "\n",
              "  <div id=\"df-4dd411f0-8cc9-48c0-91bb-7295ea56bde3\" class=\"colab-df-container\">\n",
              "    <div>\n",
              "<style scoped>\n",
              "    .dataframe tbody tr th:only-of-type {\n",
              "        vertical-align: middle;\n",
              "    }\n",
              "\n",
              "    .dataframe tbody tr th {\n",
              "        vertical-align: top;\n",
              "    }\n",
              "\n",
              "    .dataframe thead th {\n",
              "        text-align: right;\n",
              "    }\n",
              "</style>\n",
              "<table border=\"1\" class=\"dataframe\">\n",
              "  <thead>\n",
              "    <tr style=\"text-align: right;\">\n",
              "      <th></th>\n",
              "      <th>tweet_id</th>\n",
              "      <th>query_id</th>\n",
              "      <th>score</th>\n",
              "      <th>ground_truth</th>\n",
              "    </tr>\n",
              "  </thead>\n",
              "  <tbody>\n",
              "    <tr>\n",
              "      <th>0</th>\n",
              "      <td>1575842840768569344</td>\n",
              "      <td>1</td>\n",
              "      <td>3.282387</td>\n",
              "      <td>1</td>\n",
              "    </tr>\n",
              "    <tr>\n",
              "      <th>1</th>\n",
              "      <td>1575818569857658880</td>\n",
              "      <td>1</td>\n",
              "      <td>3.129791</td>\n",
              "      <td>1</td>\n",
              "    </tr>\n",
              "    <tr>\n",
              "      <th>2</th>\n",
              "      <td>1575821202064834560</td>\n",
              "      <td>1</td>\n",
              "      <td>2.879615</td>\n",
              "      <td>1</td>\n",
              "    </tr>\n",
              "    <tr>\n",
              "      <th>3</th>\n",
              "      <td>1575820237010006017</td>\n",
              "      <td>1</td>\n",
              "      <td>2.879615</td>\n",
              "      <td>1</td>\n",
              "    </tr>\n",
              "    <tr>\n",
              "      <th>4</th>\n",
              "      <td>1575180675002486785</td>\n",
              "      <td>1</td>\n",
              "      <td>2.725980</td>\n",
              "      <td>0</td>\n",
              "    </tr>\n",
              "  </tbody>\n",
              "</table>\n",
              "</div>\n",
              "    <div class=\"colab-df-buttons\">\n",
              "\n",
              "  <div class=\"colab-df-container\">\n",
              "    <button class=\"colab-df-convert\" onclick=\"convertToInteractive('df-4dd411f0-8cc9-48c0-91bb-7295ea56bde3')\"\n",
              "            title=\"Convert this dataframe to an interactive table.\"\n",
              "            style=\"display:none;\">\n",
              "\n",
              "  <svg xmlns=\"http://www.w3.org/2000/svg\" height=\"24px\" viewBox=\"0 -960 960 960\">\n",
              "    <path d=\"M120-120v-720h720v720H120Zm60-500h600v-160H180v160Zm220 220h160v-160H400v160Zm0 220h160v-160H400v160ZM180-400h160v-160H180v160Zm440 0h160v-160H620v160ZM180-180h160v-160H180v160Zm440 0h160v-160H620v160Z\"/>\n",
              "  </svg>\n",
              "    </button>\n",
              "\n",
              "  <style>\n",
              "    .colab-df-container {\n",
              "      display:flex;\n",
              "      gap: 12px;\n",
              "    }\n",
              "\n",
              "    .colab-df-convert {\n",
              "      background-color: #E8F0FE;\n",
              "      border: none;\n",
              "      border-radius: 50%;\n",
              "      cursor: pointer;\n",
              "      display: none;\n",
              "      fill: #1967D2;\n",
              "      height: 32px;\n",
              "      padding: 0 0 0 0;\n",
              "      width: 32px;\n",
              "    }\n",
              "\n",
              "    .colab-df-convert:hover {\n",
              "      background-color: #E2EBFA;\n",
              "      box-shadow: 0px 1px 2px rgba(60, 64, 67, 0.3), 0px 1px 3px 1px rgba(60, 64, 67, 0.15);\n",
              "      fill: #174EA6;\n",
              "    }\n",
              "\n",
              "    .colab-df-buttons div {\n",
              "      margin-bottom: 4px;\n",
              "    }\n",
              "\n",
              "    [theme=dark] .colab-df-convert {\n",
              "      background-color: #3B4455;\n",
              "      fill: #D2E3FC;\n",
              "    }\n",
              "\n",
              "    [theme=dark] .colab-df-convert:hover {\n",
              "      background-color: #434B5C;\n",
              "      box-shadow: 0px 1px 3px 1px rgba(0, 0, 0, 0.15);\n",
              "      filter: drop-shadow(0px 1px 2px rgba(0, 0, 0, 0.3));\n",
              "      fill: #FFFFFF;\n",
              "    }\n",
              "  </style>\n",
              "\n",
              "    <script>\n",
              "      const buttonEl =\n",
              "        document.querySelector('#df-4dd411f0-8cc9-48c0-91bb-7295ea56bde3 button.colab-df-convert');\n",
              "      buttonEl.style.display =\n",
              "        google.colab.kernel.accessAllowed ? 'block' : 'none';\n",
              "\n",
              "      async function convertToInteractive(key) {\n",
              "        const element = document.querySelector('#df-4dd411f0-8cc9-48c0-91bb-7295ea56bde3');\n",
              "        const dataTable =\n",
              "          await google.colab.kernel.invokeFunction('convertToInteractive',\n",
              "                                                    [key], {});\n",
              "        if (!dataTable) return;\n",
              "\n",
              "        const docLinkHtml = 'Like what you see? Visit the ' +\n",
              "          '<a target=\"_blank\" href=https://colab.research.google.com/notebooks/data_table.ipynb>data table notebook</a>'\n",
              "          + ' to learn more about interactive tables.';\n",
              "        element.innerHTML = '';\n",
              "        dataTable['output_type'] = 'display_data';\n",
              "        await google.colab.output.renderOutput(dataTable, element);\n",
              "        const docLink = document.createElement('div');\n",
              "        docLink.innerHTML = docLinkHtml;\n",
              "        element.appendChild(docLink);\n",
              "      }\n",
              "    </script>\n",
              "  </div>\n",
              "\n",
              "\n",
              "<div id=\"df-7adb67d1-75ae-4bf5-a233-f7d69e8193d3\">\n",
              "  <button class=\"colab-df-quickchart\" onclick=\"quickchart('df-7adb67d1-75ae-4bf5-a233-f7d69e8193d3')\"\n",
              "            title=\"Suggest charts.\"\n",
              "            style=\"display:none;\">\n",
              "\n",
              "<svg xmlns=\"http://www.w3.org/2000/svg\" height=\"24px\"viewBox=\"0 0 24 24\"\n",
              "     width=\"24px\">\n",
              "    <g>\n",
              "        <path d=\"M19 3H5c-1.1 0-2 .9-2 2v14c0 1.1.9 2 2 2h14c1.1 0 2-.9 2-2V5c0-1.1-.9-2-2-2zM9 17H7v-7h2v7zm4 0h-2V7h2v10zm4 0h-2v-4h2v4z\"/>\n",
              "    </g>\n",
              "</svg>\n",
              "  </button>\n",
              "\n",
              "<style>\n",
              "  .colab-df-quickchart {\n",
              "      --bg-color: #E8F0FE;\n",
              "      --fill-color: #1967D2;\n",
              "      --hover-bg-color: #E2EBFA;\n",
              "      --hover-fill-color: #174EA6;\n",
              "      --disabled-fill-color: #AAA;\n",
              "      --disabled-bg-color: #DDD;\n",
              "  }\n",
              "\n",
              "  [theme=dark] .colab-df-quickchart {\n",
              "      --bg-color: #3B4455;\n",
              "      --fill-color: #D2E3FC;\n",
              "      --hover-bg-color: #434B5C;\n",
              "      --hover-fill-color: #FFFFFF;\n",
              "      --disabled-bg-color: #3B4455;\n",
              "      --disabled-fill-color: #666;\n",
              "  }\n",
              "\n",
              "  .colab-df-quickchart {\n",
              "    background-color: var(--bg-color);\n",
              "    border: none;\n",
              "    border-radius: 50%;\n",
              "    cursor: pointer;\n",
              "    display: none;\n",
              "    fill: var(--fill-color);\n",
              "    height: 32px;\n",
              "    padding: 0;\n",
              "    width: 32px;\n",
              "  }\n",
              "\n",
              "  .colab-df-quickchart:hover {\n",
              "    background-color: var(--hover-bg-color);\n",
              "    box-shadow: 0 1px 2px rgba(60, 64, 67, 0.3), 0 1px 3px 1px rgba(60, 64, 67, 0.15);\n",
              "    fill: var(--button-hover-fill-color);\n",
              "  }\n",
              "\n",
              "  .colab-df-quickchart-complete:disabled,\n",
              "  .colab-df-quickchart-complete:disabled:hover {\n",
              "    background-color: var(--disabled-bg-color);\n",
              "    fill: var(--disabled-fill-color);\n",
              "    box-shadow: none;\n",
              "  }\n",
              "\n",
              "  .colab-df-spinner {\n",
              "    border: 2px solid var(--fill-color);\n",
              "    border-color: transparent;\n",
              "    border-bottom-color: var(--fill-color);\n",
              "    animation:\n",
              "      spin 1s steps(1) infinite;\n",
              "  }\n",
              "\n",
              "  @keyframes spin {\n",
              "    0% {\n",
              "      border-color: transparent;\n",
              "      border-bottom-color: var(--fill-color);\n",
              "      border-left-color: var(--fill-color);\n",
              "    }\n",
              "    20% {\n",
              "      border-color: transparent;\n",
              "      border-left-color: var(--fill-color);\n",
              "      border-top-color: var(--fill-color);\n",
              "    }\n",
              "    30% {\n",
              "      border-color: transparent;\n",
              "      border-left-color: var(--fill-color);\n",
              "      border-top-color: var(--fill-color);\n",
              "      border-right-color: var(--fill-color);\n",
              "    }\n",
              "    40% {\n",
              "      border-color: transparent;\n",
              "      border-right-color: var(--fill-color);\n",
              "      border-top-color: var(--fill-color);\n",
              "    }\n",
              "    60% {\n",
              "      border-color: transparent;\n",
              "      border-right-color: var(--fill-color);\n",
              "    }\n",
              "    80% {\n",
              "      border-color: transparent;\n",
              "      border-right-color: var(--fill-color);\n",
              "      border-bottom-color: var(--fill-color);\n",
              "    }\n",
              "    90% {\n",
              "      border-color: transparent;\n",
              "      border-bottom-color: var(--fill-color);\n",
              "    }\n",
              "  }\n",
              "</style>\n",
              "\n",
              "  <script>\n",
              "    async function quickchart(key) {\n",
              "      const quickchartButtonEl =\n",
              "        document.querySelector('#' + key + ' button');\n",
              "      quickchartButtonEl.disabled = true;  // To prevent multiple clicks.\n",
              "      quickchartButtonEl.classList.add('colab-df-spinner');\n",
              "      try {\n",
              "        const charts = await google.colab.kernel.invokeFunction(\n",
              "            'suggestCharts', [key], {});\n",
              "      } catch (error) {\n",
              "        console.error('Error during call to suggestCharts:', error);\n",
              "      }\n",
              "      quickchartButtonEl.classList.remove('colab-df-spinner');\n",
              "      quickchartButtonEl.classList.add('colab-df-quickchart-complete');\n",
              "    }\n",
              "    (() => {\n",
              "      let quickchartButtonEl =\n",
              "        document.querySelector('#df-7adb67d1-75ae-4bf5-a233-f7d69e8193d3 button');\n",
              "      quickchartButtonEl.style.display =\n",
              "        google.colab.kernel.accessAllowed ? 'block' : 'none';\n",
              "    })();\n",
              "  </script>\n",
              "</div>\n",
              "    </div>\n",
              "  </div>\n"
            ]
          },
          "metadata": {},
          "execution_count": 56
        }
      ]
    },
    {
      "cell_type": "code",
      "source": [
        "new_queries_df = new_queries_df.astype({'query_id': 'int64'})\n",
        "new_queries_df = new_queries_df.astype({'ground_truth': 'int64'})\n",
        "new_queries_df = new_queries_df.astype({'tweet_id': 'int64'})\n",
        "new_queries_df.head()"
      ],
      "metadata": {
        "colab": {
          "base_uri": "https://localhost:8080/",
          "height": 206
        },
        "id": "XfkvT-crkOgH",
        "outputId": "79ce50ee-7cd6-411c-b374-fd191a0c2fff"
      },
      "execution_count": 57,
      "outputs": [
        {
          "output_type": "execute_result",
          "data": {
            "text/plain": [
              "              tweet_id  query_id     score  ground_truth\n",
              "0  1575842840768569344         1  3.282387             1\n",
              "1  1575818569857658880         1  3.129791             1\n",
              "2  1575821202064834560         1  2.879615             1\n",
              "3  1575820237010006017         1  2.879615             1\n",
              "4  1575180675002486785         1  2.725980             0"
            ],
            "text/html": [
              "\n",
              "  <div id=\"df-25a8f7be-4ceb-4158-bc06-e4e551248d29\" class=\"colab-df-container\">\n",
              "    <div>\n",
              "<style scoped>\n",
              "    .dataframe tbody tr th:only-of-type {\n",
              "        vertical-align: middle;\n",
              "    }\n",
              "\n",
              "    .dataframe tbody tr th {\n",
              "        vertical-align: top;\n",
              "    }\n",
              "\n",
              "    .dataframe thead th {\n",
              "        text-align: right;\n",
              "    }\n",
              "</style>\n",
              "<table border=\"1\" class=\"dataframe\">\n",
              "  <thead>\n",
              "    <tr style=\"text-align: right;\">\n",
              "      <th></th>\n",
              "      <th>tweet_id</th>\n",
              "      <th>query_id</th>\n",
              "      <th>score</th>\n",
              "      <th>ground_truth</th>\n",
              "    </tr>\n",
              "  </thead>\n",
              "  <tbody>\n",
              "    <tr>\n",
              "      <th>0</th>\n",
              "      <td>1575842840768569344</td>\n",
              "      <td>1</td>\n",
              "      <td>3.282387</td>\n",
              "      <td>1</td>\n",
              "    </tr>\n",
              "    <tr>\n",
              "      <th>1</th>\n",
              "      <td>1575818569857658880</td>\n",
              "      <td>1</td>\n",
              "      <td>3.129791</td>\n",
              "      <td>1</td>\n",
              "    </tr>\n",
              "    <tr>\n",
              "      <th>2</th>\n",
              "      <td>1575821202064834560</td>\n",
              "      <td>1</td>\n",
              "      <td>2.879615</td>\n",
              "      <td>1</td>\n",
              "    </tr>\n",
              "    <tr>\n",
              "      <th>3</th>\n",
              "      <td>1575820237010006017</td>\n",
              "      <td>1</td>\n",
              "      <td>2.879615</td>\n",
              "      <td>1</td>\n",
              "    </tr>\n",
              "    <tr>\n",
              "      <th>4</th>\n",
              "      <td>1575180675002486785</td>\n",
              "      <td>1</td>\n",
              "      <td>2.725980</td>\n",
              "      <td>0</td>\n",
              "    </tr>\n",
              "  </tbody>\n",
              "</table>\n",
              "</div>\n",
              "    <div class=\"colab-df-buttons\">\n",
              "\n",
              "  <div class=\"colab-df-container\">\n",
              "    <button class=\"colab-df-convert\" onclick=\"convertToInteractive('df-25a8f7be-4ceb-4158-bc06-e4e551248d29')\"\n",
              "            title=\"Convert this dataframe to an interactive table.\"\n",
              "            style=\"display:none;\">\n",
              "\n",
              "  <svg xmlns=\"http://www.w3.org/2000/svg\" height=\"24px\" viewBox=\"0 -960 960 960\">\n",
              "    <path d=\"M120-120v-720h720v720H120Zm60-500h600v-160H180v160Zm220 220h160v-160H400v160Zm0 220h160v-160H400v160ZM180-400h160v-160H180v160Zm440 0h160v-160H620v160ZM180-180h160v-160H180v160Zm440 0h160v-160H620v160Z\"/>\n",
              "  </svg>\n",
              "    </button>\n",
              "\n",
              "  <style>\n",
              "    .colab-df-container {\n",
              "      display:flex;\n",
              "      gap: 12px;\n",
              "    }\n",
              "\n",
              "    .colab-df-convert {\n",
              "      background-color: #E8F0FE;\n",
              "      border: none;\n",
              "      border-radius: 50%;\n",
              "      cursor: pointer;\n",
              "      display: none;\n",
              "      fill: #1967D2;\n",
              "      height: 32px;\n",
              "      padding: 0 0 0 0;\n",
              "      width: 32px;\n",
              "    }\n",
              "\n",
              "    .colab-df-convert:hover {\n",
              "      background-color: #E2EBFA;\n",
              "      box-shadow: 0px 1px 2px rgba(60, 64, 67, 0.3), 0px 1px 3px 1px rgba(60, 64, 67, 0.15);\n",
              "      fill: #174EA6;\n",
              "    }\n",
              "\n",
              "    .colab-df-buttons div {\n",
              "      margin-bottom: 4px;\n",
              "    }\n",
              "\n",
              "    [theme=dark] .colab-df-convert {\n",
              "      background-color: #3B4455;\n",
              "      fill: #D2E3FC;\n",
              "    }\n",
              "\n",
              "    [theme=dark] .colab-df-convert:hover {\n",
              "      background-color: #434B5C;\n",
              "      box-shadow: 0px 1px 3px 1px rgba(0, 0, 0, 0.15);\n",
              "      filter: drop-shadow(0px 1px 2px rgba(0, 0, 0, 0.3));\n",
              "      fill: #FFFFFF;\n",
              "    }\n",
              "  </style>\n",
              "\n",
              "    <script>\n",
              "      const buttonEl =\n",
              "        document.querySelector('#df-25a8f7be-4ceb-4158-bc06-e4e551248d29 button.colab-df-convert');\n",
              "      buttonEl.style.display =\n",
              "        google.colab.kernel.accessAllowed ? 'block' : 'none';\n",
              "\n",
              "      async function convertToInteractive(key) {\n",
              "        const element = document.querySelector('#df-25a8f7be-4ceb-4158-bc06-e4e551248d29');\n",
              "        const dataTable =\n",
              "          await google.colab.kernel.invokeFunction('convertToInteractive',\n",
              "                                                    [key], {});\n",
              "        if (!dataTable) return;\n",
              "\n",
              "        const docLinkHtml = 'Like what you see? Visit the ' +\n",
              "          '<a target=\"_blank\" href=https://colab.research.google.com/notebooks/data_table.ipynb>data table notebook</a>'\n",
              "          + ' to learn more about interactive tables.';\n",
              "        element.innerHTML = '';\n",
              "        dataTable['output_type'] = 'display_data';\n",
              "        await google.colab.output.renderOutput(dataTable, element);\n",
              "        const docLink = document.createElement('div');\n",
              "        docLink.innerHTML = docLinkHtml;\n",
              "        element.appendChild(docLink);\n",
              "      }\n",
              "    </script>\n",
              "  </div>\n",
              "\n",
              "\n",
              "<div id=\"df-3ea71079-48c1-45d3-8ef0-bb36b3ef91e6\">\n",
              "  <button class=\"colab-df-quickchart\" onclick=\"quickchart('df-3ea71079-48c1-45d3-8ef0-bb36b3ef91e6')\"\n",
              "            title=\"Suggest charts.\"\n",
              "            style=\"display:none;\">\n",
              "\n",
              "<svg xmlns=\"http://www.w3.org/2000/svg\" height=\"24px\"viewBox=\"0 0 24 24\"\n",
              "     width=\"24px\">\n",
              "    <g>\n",
              "        <path d=\"M19 3H5c-1.1 0-2 .9-2 2v14c0 1.1.9 2 2 2h14c1.1 0 2-.9 2-2V5c0-1.1-.9-2-2-2zM9 17H7v-7h2v7zm4 0h-2V7h2v10zm4 0h-2v-4h2v4z\"/>\n",
              "    </g>\n",
              "</svg>\n",
              "  </button>\n",
              "\n",
              "<style>\n",
              "  .colab-df-quickchart {\n",
              "      --bg-color: #E8F0FE;\n",
              "      --fill-color: #1967D2;\n",
              "      --hover-bg-color: #E2EBFA;\n",
              "      --hover-fill-color: #174EA6;\n",
              "      --disabled-fill-color: #AAA;\n",
              "      --disabled-bg-color: #DDD;\n",
              "  }\n",
              "\n",
              "  [theme=dark] .colab-df-quickchart {\n",
              "      --bg-color: #3B4455;\n",
              "      --fill-color: #D2E3FC;\n",
              "      --hover-bg-color: #434B5C;\n",
              "      --hover-fill-color: #FFFFFF;\n",
              "      --disabled-bg-color: #3B4455;\n",
              "      --disabled-fill-color: #666;\n",
              "  }\n",
              "\n",
              "  .colab-df-quickchart {\n",
              "    background-color: var(--bg-color);\n",
              "    border: none;\n",
              "    border-radius: 50%;\n",
              "    cursor: pointer;\n",
              "    display: none;\n",
              "    fill: var(--fill-color);\n",
              "    height: 32px;\n",
              "    padding: 0;\n",
              "    width: 32px;\n",
              "  }\n",
              "\n",
              "  .colab-df-quickchart:hover {\n",
              "    background-color: var(--hover-bg-color);\n",
              "    box-shadow: 0 1px 2px rgba(60, 64, 67, 0.3), 0 1px 3px 1px rgba(60, 64, 67, 0.15);\n",
              "    fill: var(--button-hover-fill-color);\n",
              "  }\n",
              "\n",
              "  .colab-df-quickchart-complete:disabled,\n",
              "  .colab-df-quickchart-complete:disabled:hover {\n",
              "    background-color: var(--disabled-bg-color);\n",
              "    fill: var(--disabled-fill-color);\n",
              "    box-shadow: none;\n",
              "  }\n",
              "\n",
              "  .colab-df-spinner {\n",
              "    border: 2px solid var(--fill-color);\n",
              "    border-color: transparent;\n",
              "    border-bottom-color: var(--fill-color);\n",
              "    animation:\n",
              "      spin 1s steps(1) infinite;\n",
              "  }\n",
              "\n",
              "  @keyframes spin {\n",
              "    0% {\n",
              "      border-color: transparent;\n",
              "      border-bottom-color: var(--fill-color);\n",
              "      border-left-color: var(--fill-color);\n",
              "    }\n",
              "    20% {\n",
              "      border-color: transparent;\n",
              "      border-left-color: var(--fill-color);\n",
              "      border-top-color: var(--fill-color);\n",
              "    }\n",
              "    30% {\n",
              "      border-color: transparent;\n",
              "      border-left-color: var(--fill-color);\n",
              "      border-top-color: var(--fill-color);\n",
              "      border-right-color: var(--fill-color);\n",
              "    }\n",
              "    40% {\n",
              "      border-color: transparent;\n",
              "      border-right-color: var(--fill-color);\n",
              "      border-top-color: var(--fill-color);\n",
              "    }\n",
              "    60% {\n",
              "      border-color: transparent;\n",
              "      border-right-color: var(--fill-color);\n",
              "    }\n",
              "    80% {\n",
              "      border-color: transparent;\n",
              "      border-right-color: var(--fill-color);\n",
              "      border-bottom-color: var(--fill-color);\n",
              "    }\n",
              "    90% {\n",
              "      border-color: transparent;\n",
              "      border-bottom-color: var(--fill-color);\n",
              "    }\n",
              "  }\n",
              "</style>\n",
              "\n",
              "  <script>\n",
              "    async function quickchart(key) {\n",
              "      const quickchartButtonEl =\n",
              "        document.querySelector('#' + key + ' button');\n",
              "      quickchartButtonEl.disabled = true;  // To prevent multiple clicks.\n",
              "      quickchartButtonEl.classList.add('colab-df-spinner');\n",
              "      try {\n",
              "        const charts = await google.colab.kernel.invokeFunction(\n",
              "            'suggestCharts', [key], {});\n",
              "      } catch (error) {\n",
              "        console.error('Error during call to suggestCharts:', error);\n",
              "      }\n",
              "      quickchartButtonEl.classList.remove('colab-df-spinner');\n",
              "      quickchartButtonEl.classList.add('colab-df-quickchart-complete');\n",
              "    }\n",
              "    (() => {\n",
              "      let quickchartButtonEl =\n",
              "        document.querySelector('#df-3ea71079-48c1-45d3-8ef0-bb36b3ef91e6 button');\n",
              "      quickchartButtonEl.style.display =\n",
              "        google.colab.kernel.accessAllowed ? 'block' : 'none';\n",
              "    })();\n",
              "  </script>\n",
              "</div>\n",
              "    </div>\n",
              "  </div>\n"
            ]
          },
          "metadata": {},
          "execution_count": 57
        }
      ]
    },
    {
      "cell_type": "code",
      "source": [
        "new_k = [4, 8, 12, 16, 20]\n",
        "for k_j in new_k:\n",
        "  for i in range(len(new_queries)):\n",
        "    new_result = new_queries_df[new_queries_df[\"query_id\"] == i+1]\n",
        "    print(\"Query{} -  Precision@{}: {}\".format(i+1, k_j, precision_at_k(new_result[\"ground_truth\"], new_result[\"score\"], k_j)))"
      ],
      "metadata": {
        "colab": {
          "base_uri": "https://localhost:8080/"
        },
        "id": "piTD9YZJkUNP",
        "outputId": "fd6beb57-1b13-4723-c685-45a9536add96"
      },
      "execution_count": 58,
      "outputs": [
        {
          "output_type": "stream",
          "name": "stdout",
          "text": [
            "Query1 -  Precision@4: 1.0\n",
            "Query2 -  Precision@4: 0.5\n",
            "Query3 -  Precision@4: 0.5\n",
            "Query4 -  Precision@4: 0.5\n",
            "Query5 -  Precision@4: 0.75\n",
            "Query1 -  Precision@8: 0.75\n",
            "Query2 -  Precision@8: 0.625\n",
            "Query3 -  Precision@8: 0.625\n",
            "Query4 -  Precision@8: 0.5\n",
            "Query5 -  Precision@8: 0.625\n",
            "Query1 -  Precision@12: 0.5\n",
            "Query2 -  Precision@12: 0.6666666666666666\n",
            "Query3 -  Precision@12: 0.75\n",
            "Query4 -  Precision@12: 0.5833333333333334\n",
            "Query5 -  Precision@12: 0.5\n",
            "Query1 -  Precision@16: 0.4375\n",
            "Query2 -  Precision@16: 0.5625\n",
            "Query3 -  Precision@16: 0.625\n",
            "Query4 -  Precision@16: 0.5\n",
            "Query5 -  Precision@16: 0.4375\n",
            "Query1 -  Precision@20: 0.5\n",
            "Query2 -  Precision@20: 0.5\n",
            "Query3 -  Precision@20: 0.5\n",
            "Query4 -  Precision@20: 0.5\n",
            "Query5 -  Precision@20: 0.5\n"
          ]
        }
      ]
    },
    {
      "cell_type": "code",
      "source": [
        "new_k = [4, 8, 12, 16, 20]\n",
        "for k_j in new_k:\n",
        "  for i in range(len(new_queries)):\n",
        "    new_result = new_queries_df[new_queries_df[\"query_id\"] == i+1]\n",
        "    print(\"Query{} -  Recall@{}: {}\".format(i+1, k_j, recall_at_k(new_result[\"ground_truth\"], new_result[\"score\"], k_j)))"
      ],
      "metadata": {
        "colab": {
          "base_uri": "https://localhost:8080/"
        },
        "id": "f2iBlrROtk7Y",
        "outputId": "56cccb43-a369-4bfe-dfc0-331b8335360c"
      },
      "execution_count": 59,
      "outputs": [
        {
          "output_type": "stream",
          "name": "stdout",
          "text": [
            "Query1 -  Recall@4: 0.4\n",
            "Query2 -  Recall@4: 0.2\n",
            "Query3 -  Recall@4: 0.2\n",
            "Query4 -  Recall@4: 0.2\n",
            "Query5 -  Recall@4: 0.3\n",
            "Query1 -  Recall@8: 0.6\n",
            "Query2 -  Recall@8: 0.5\n",
            "Query3 -  Recall@8: 0.5\n",
            "Query4 -  Recall@8: 0.4\n",
            "Query5 -  Recall@8: 0.5\n",
            "Query1 -  Recall@12: 0.6\n",
            "Query2 -  Recall@12: 0.8\n",
            "Query3 -  Recall@12: 0.9\n",
            "Query4 -  Recall@12: 0.7\n",
            "Query5 -  Recall@12: 0.6\n",
            "Query1 -  Recall@16: 0.7\n",
            "Query2 -  Recall@16: 0.9\n",
            "Query3 -  Recall@16: 1.0\n",
            "Query4 -  Recall@16: 0.8\n",
            "Query5 -  Recall@16: 0.7\n",
            "Query1 -  Recall@20: 1.0\n",
            "Query2 -  Recall@20: 1.0\n",
            "Query3 -  Recall@20: 1.0\n",
            "Query4 -  Recall@20: 1.0\n",
            "Query5 -  Recall@20: 1.0\n"
          ]
        }
      ]
    },
    {
      "cell_type": "code",
      "source": [
        "new_k = 20\n",
        "for i in range(len(new_queries)):\n",
        "  new_result = new_queries_df[new_queries_df[\"query_id\"] == i+1]\n",
        "  print(\"Query{} -  Average Precision@{}: {}\".format(i+1, new_k, avg_precision_at_k(np.array(new_result[\"ground_truth\"]), np.array(new_result[\"score\"]), new_k)))"
      ],
      "metadata": {
        "colab": {
          "base_uri": "https://localhost:8080/"
        },
        "id": "n5IyML0mtxVj",
        "outputId": "debd980b-cfc7-40de-cc80-b50e724b2ce9"
      },
      "execution_count": 60,
      "outputs": [
        {
          "output_type": "stream",
          "name": "stdout",
          "text": [
            "Query1 -  Average Precision@20: 0.7575271512113617\n",
            "Query2 -  Average Precision@20: 0.670554298642534\n",
            "Query3 -  Average Precision@20: 0.6098701298701299\n",
            "Query4 -  Average Precision@20: 0.5729698028150041\n",
            "Query5 -  Average Precision@20: 0.6145588235294117\n"
          ]
        }
      ]
    },
    {
      "cell_type": "code",
      "source": [
        "from sklearn.metrics import average_precision_score\n",
        "new_k = 20\n",
        "for i in range(len(new_queries)):\n",
        "  new_result = new_queries_df[new_queries_df[\"query_id\"] == i+1]\n",
        "  print(\"Query{} -  Average Precision@{} (python function): {}\".format(i+1, new_k, average_precision_score(np.array(new_result[\"ground_truth\"]), np.array(new_result[\"score\"][:new_k])), new_k))"
      ],
      "metadata": {
        "colab": {
          "base_uri": "https://localhost:8080/"
        },
        "id": "Uz4Aslg_t7oS",
        "outputId": "0d36522e-37cf-45da-df7f-cb9aa460e8ed"
      },
      "execution_count": 61,
      "outputs": [
        {
          "output_type": "stream",
          "name": "stdout",
          "text": [
            "Query1 -  Average Precision@20 (python function): 0.7604511278195488\n",
            "Query2 -  Average Precision@20 (python function): 0.6705542986425339\n",
            "Query3 -  Average Precision@20 (python function): 0.6265367965367965\n",
            "Query4 -  Average Precision@20 (python function): 0.5729698028150041\n",
            "Query5 -  Average Precision@20 (python function): 0.6202605779153767\n"
          ]
        }
      ]
    },
    {
      "cell_type": "code",
      "source": [
        "new_k = [4, 8, 12, 16, 20]\n",
        "for k_j in new_k:\n",
        "  for i in range(len(new_queries)):\n",
        "    new_result = new_queries_df[new_queries_df[\"query_id\"] == i+1]\n",
        "    print(\"Query{} -  F1-Score@{}: {}\".format(i+1, k_j, f1_score_at_k(np.array(new_result[\"ground_truth\"]), np.array(new_result[\"score\"]), k_j)))"
      ],
      "metadata": {
        "colab": {
          "base_uri": "https://localhost:8080/"
        },
        "id": "WZsa6mc7uL0z",
        "outputId": "5796f430-57f9-4b7a-af9a-5eb7cd52b25f"
      },
      "execution_count": 62,
      "outputs": [
        {
          "output_type": "stream",
          "name": "stdout",
          "text": [
            "Query1 -  F1-Score@4: 0.5714285714285715\n",
            "Query2 -  F1-Score@4: 0.28571428571428575\n",
            "Query3 -  F1-Score@4: 0.28571428571428575\n",
            "Query4 -  F1-Score@4: 0.28571428571428575\n",
            "Query5 -  F1-Score@4: 0.4285714285714285\n",
            "Query1 -  F1-Score@8: 0.6666666666666665\n",
            "Query2 -  F1-Score@8: 0.5555555555555556\n",
            "Query3 -  F1-Score@8: 0.5555555555555556\n",
            "Query4 -  F1-Score@8: 0.4444444444444445\n",
            "Query5 -  F1-Score@8: 0.5555555555555556\n",
            "Query1 -  F1-Score@12: 0.5454545454545454\n",
            "Query2 -  F1-Score@12: 0.7272727272727272\n",
            "Query3 -  F1-Score@12: 0.8181818181818182\n",
            "Query4 -  F1-Score@12: 0.6363636363636365\n",
            "Query5 -  F1-Score@12: 0.5454545454545454\n",
            "Query1 -  F1-Score@16: 0.5384615384615384\n",
            "Query2 -  F1-Score@16: 0.6923076923076923\n",
            "Query3 -  F1-Score@16: 0.7692307692307693\n",
            "Query4 -  F1-Score@16: 0.6153846153846154\n",
            "Query5 -  F1-Score@16: 0.5384615384615384\n",
            "Query1 -  F1-Score@20: 0.6666666666666666\n",
            "Query2 -  F1-Score@20: 0.6666666666666666\n",
            "Query3 -  F1-Score@20: 0.6666666666666666\n",
            "Query4 -  F1-Score@20: 0.6666666666666666\n",
            "Query5 -  F1-Score@20: 0.6666666666666666\n"
          ]
        }
      ]
    },
    {
      "cell_type": "code",
      "source": [
        "new_k = [4, 8, 12, 16, 20]\n",
        "for k_j in new_k:\n",
        "  print(\"MAP@{}: {}\".format(k_j,  map_at_k(new_queries_df,k_j)))"
      ],
      "metadata": {
        "colab": {
          "base_uri": "https://localhost:8080/"
        },
        "id": "1QjsAVteuVeO",
        "outputId": "9a74f7ab-61e0-46a1-b6ff-0541ab9e44dc"
      },
      "execution_count": 63,
      "outputs": [
        {
          "output_type": "stream",
          "name": "stdout",
          "text": [
            "MAP@4: 0.195\n",
            "MAP@8: 0.3537380952380952\n",
            "MAP@12: 0.49712193362193363\n",
            "MAP@16: 0.5544424464424464\n",
            "MAP@20: 0.6450960412136884\n"
          ]
        }
      ]
    },
    {
      "cell_type": "code",
      "source": [
        "new_k = [4, 8, 12, 16, 20]\n",
        "for k_j in new_k:\n",
        "  print(\"MRR@{}: {}\".format(k_j,  mrr_at_k(new_queries_df,k_j)))"
      ],
      "metadata": {
        "colab": {
          "base_uri": "https://localhost:8080/"
        },
        "id": "Au4sqPL1uatI",
        "outputId": "84d468a3-f931-43f2-f9b2-92c05158ab52"
      },
      "execution_count": 64,
      "outputs": [
        {
          "output_type": "stream",
          "name": "stdout",
          "text": [
            "MRR@4: 0.7667\n",
            "MRR@8: 0.7667\n",
            "MRR@12: 0.7667\n",
            "MRR@16: 0.7667\n",
            "MRR@20: 0.7667\n"
          ]
        }
      ]
    },
    {
      "cell_type": "code",
      "source": [
        "new_k = [4, 8, 12, 16, 20]\n",
        "for k_j in new_k:\n",
        "  for i in range(len(new_queries)):\n",
        "    new_result = new_queries_df[new_queries_df[\"query_id\"] == i+1]\n",
        "    new_labels = np.array(new_result[\"ground_truth\"])\n",
        "    new_scores = np.array(new_result[\"score\"])\n",
        "    new_ndcg_k = np.round(ndcg_at_k(new_labels, new_scores, k_j), 4)\n",
        "    print(\"Query{} -  NDCG@{}: {}\".format(i+1, k_j, new_ndcg_k))"
      ],
      "metadata": {
        "colab": {
          "base_uri": "https://localhost:8080/"
        },
        "id": "x93SArqED1Dy",
        "outputId": "07fdef06-396b-447f-a888-bc8eb227d0b8"
      },
      "execution_count": 65,
      "outputs": [
        {
          "output_type": "stream",
          "name": "stdout",
          "text": [
            "Query1 -  NDCG@4: 1.0\n",
            "Query2 -  NDCG@4: 0.5585\n",
            "Query3 -  NDCG@4: 0.3633\n",
            "Query4 -  NDCG@4: 0.4144\n",
            "Query5 -  NDCG@4: 0.7537\n",
            "Query1 -  NDCG@8: 0.8224\n",
            "Query2 -  NDCG@8: 0.6296\n",
            "Query3 -  NDCG@8: 0.4974\n",
            "Query4 -  NDCG@8: 0.4565\n",
            "Query5 -  NDCG@8: 0.6582\n",
            "Query1 -  NDCG@12: 0.7156\n",
            "Query2 -  NDCG@12: 0.7372\n",
            "Query3 -  NDCG@12: 0.6835\n",
            "Query4 -  NDCG@12: 0.5885\n",
            "Query5 -  NDCG@12: 0.6322\n",
            "Query1 -  NDCG@16: 0.7706\n",
            "Query2 -  NDCG@16: 0.795\n",
            "Query3 -  NDCG@16: 0.7374\n",
            "Query4 -  NDCG@16: 0.6463\n",
            "Query5 -  NDCG@16: 0.6873\n",
            "Query1 -  NDCG@20: 0.9234\n",
            "Query2 -  NDCG@20: 0.8478\n",
            "Query3 -  NDCG@20: 0.7374\n",
            "Query4 -  NDCG@20: 0.75\n",
            "Query5 -  NDCG@20: 0.842\n"
          ]
        }
      ]
    },
    {
      "cell_type": "code",
      "source": [
        "from gensim.models.word2vec import Word2Vec\n",
        "from sklearn.manifold import TSNE\n",
        "import matplotlib.pyplot as plt"
      ],
      "metadata": {
        "id": "nrINmFyUFOzN"
      },
      "execution_count": 66,
      "outputs": []
    },
    {
      "cell_type": "code",
      "source": [
        "clean_tweets = []\n",
        "for tweet in get_tweets:\n",
        "        terms = get_tweets[tweet]['PreProcessed_Tweet']\n",
        "        clean_tweets.append(terms)\n",
        "\n",
        "model = Word2Vec(clean_tweets, workers=4, min_count=50, window=10, sample=1e-3)\n",
        "\n",
        "\n",
        "X = model.wv[model.wv.index_to_key]\n",
        "\n",
        "tsne = TSNE(n_components=2)\n",
        "X_tsne = tsne.fit_transform(X)\n",
        "\n",
        "plt.scatter(X_tsne[:, 0], X_tsne[:, 1])\n",
        "plt.show()"
      ],
      "metadata": {
        "colab": {
          "base_uri": "https://localhost:8080/",
          "height": 430
        },
        "id": "d6AqIgrEESrL",
        "outputId": "f33081fe-a0f9-4caa-c687-cd011eaca067"
      },
      "execution_count": 67,
      "outputs": [
        {
          "output_type": "display_data",
          "data": {
            "text/plain": [
              "<Figure size 640x480 with 1 Axes>"
            ],
            "image/png": "[encoded data removed]"
          },
          "metadata": {}
        }
      ]
    },
    {
      "cell_type": "code",
      "source": [
        "import matplotlib.cm as cm\n",
        "\n",
        "model_wp = Word2Vec(clean_tweets, workers=4, min_count=50, window=10, sample=1e-3)\n",
        "\n",
        "words_wp = []\n",
        "embeddings_wp = []\n",
        "for word in list(model_wp.wv.index_to_key):\n",
        "    embeddings_wp.append(model_wp.wv[word])\n",
        "    words_wp.append(word)\n",
        "\n",
        "tsne_wp_3d = TSNE(perplexity=30, n_components=3, init='pca', n_iter=3500, random_state=12)\n",
        "embeddings_wp_3d = tsne_wp_3d.fit_transform(np.array(embeddings_wp))  # Corrected line\n",
        "\n",
        "from mpl_toolkits.mplot3d import Axes3D\n",
        "\n",
        "def tsne_plot_3d(title, label, embeddings, a=1):\n",
        "    fig = plt.figure()\n",
        "    ax = fig.add_subplot(111, projection='3d')\n",
        "    colors = cm.rainbow(np.linspace(0, 1, len(label)))\n",
        "    ax.scatter(embeddings[:, 0], embeddings[:, 1], embeddings[:, 2], c=colors, alpha=a, label=label)\n",
        "    ax.legend(loc=4)\n",
        "    plt.title(title)\n",
        "    plt.show()\n",
        "\n",
        "tsne_plot_3d('Visualizing tweets using t-SNE', ['Russian-Ukranian War'], embeddings_wp_3d, a=0.1)\n"
      ],
      "metadata": {
        "colab": {
          "base_uri": "https://localhost:8080/",
          "height": 434
        },
        "id": "1dqp0fBJFg9m",
        "outputId": "7f82abd5-d6c3-476c-86f7-1517e747a836"
      },
      "execution_count": 68,
      "outputs": [
        {
          "output_type": "display_data",
          "data": {
            "text/plain": [
              "<Figure size 640x480 with 1 Axes>"
            ],
            "image/png": "[encoded data removed]"
          },
          "metadata": {}
        }
      ]
    },
    {
      "cell_type": "code",
      "source": [],
      "metadata": {
        "id": "IJt-iATrGftP"
      },
      "execution_count": 68,
      "outputs": []
    }
  ]
}